{
 "cells": [
  {
   "cell_type": "code",
   "execution_count": 1,
   "metadata": {},
   "outputs": [],
   "source": [
    "from __future__ import division\n",
    "import os\n",
    "import codecs\n",
    "from sklearn.feature_extraction.text import TfidfVectorizer\n",
    "from sklearn.linear_model import LogisticRegression\n",
    "from nltk.corpus import stopwords\n",
    "from sklearn.cluster import KMeans\n",
    "from itertools import combinations"
   ]
  },
  {
   "cell_type": "code",
   "execution_count": 2,
   "metadata": {},
   "outputs": [],
   "source": [
    "def PackToDocks(file_txt, target_folder):\n",
    "    my_file = codecs.open(file_txt, mode ='r', encoding = 'utf-8')\n",
    "    file_text = my_file.read().splitlines()\n",
    "    text = [i for i in file_text if (i and '|mark' not in i)]\n",
    "    class_list = [int(i[6:]) for i in file_text if '|mark' in i]\n",
    "    for i,state in enumerate(text):\n",
    "        f = codecs.open(target_folder + '/d_' + str(i) + '.txt', mode='w', encoding = 'utf-8')\n",
    "        f.write(state[state.find('text')+5:])\n",
    "        f.close()\n",
    "    my_file.close()\n",
    "    return class_list"
   ]
  },
  {
   "cell_type": "code",
   "execution_count": 3,
   "metadata": {},
   "outputs": [],
   "source": [
    "def ClearTable(table):\n",
    "    for i in table:\n",
    "        if i[0]==i[1]:\n",
    "            table[i] == False\n",
    "        else:\n",
    "            table[i] == 0\n",
    "\n",
    "def Add(dic, value):\n",
    "    if value in dic:\n",
    "        dic[value] +=1\n",
    "    else:\n",
    "        dic[value] = 1\n",
    "\n",
    "def All(dic):\n",
    "    for i in dic:\n",
    "        if i[0] == i[1] and dic[i] == False:\n",
    "            return False\n",
    "    return True\n",
    "\n",
    "def GetDict(cluster_list, class_list):\n",
    "    s = set()\n",
    "    d = {}\n",
    "    for x in cluster_list:\n",
    "        s.add(x)\n",
    "    for kek in s:\n",
    "        self_d = {}\n",
    "        for i in s:\n",
    "            self_d[i] = 0\n",
    "        for i in range(len(cluster_list)):\n",
    "            if cluster_list[i] == kek:\n",
    "                Add(self_d, class_list[i])\n",
    "        d[kek] = dict(self_d)\n",
    "    return d\n",
    "\n",
    "def Swap(cluster_list, class_list, max_key):\n",
    "    for i in range(len(cluster_list)):\n",
    "        if cluster_list[i] == max_key[0]:\n",
    "            cluster_list[i] = max_key[1]\n",
    "        elif cluster_list[i] == max_key[1]:\n",
    "            cluster_list[i] = max_key[0]\n",
    "            \n",
    "def CPS(cluster_list, class_list):\n",
    "    s = set()\n",
    "    for x in cluster_list:\n",
    "        s.add(x)\n",
    "    table = {}\n",
    "    for i in combinations(list(s), 2):\n",
    "        table[i] = 0\n",
    "    for i in s:\n",
    "        table[(i, i)] = False\n",
    "    while True:\n",
    "        d = GetDict(cluster_list, class_list)\n",
    "        for line in table:\n",
    "            if line[0] != line[1]:\n",
    "                table[line] = d[line[0]][line[1]] + d[line[1]][line[0]]\n",
    "            else:\n",
    "                table[line] = d[line[0]][line[1]]\n",
    "        max_key = None\n",
    "        for line in table:\n",
    "            if table[line] > table[(line[0], line[0])] + table[(line[1], line[1])]:\n",
    "                if max_key == None:\n",
    "                    max_key = line\n",
    "                elif table[max_key] < table[line]:\n",
    "                    max_key = line\n",
    "        if max_key == None:\n",
    "            break\n",
    "        else:\n",
    "            Swap(cluster_list, class_list, max_key)\n",
    "\n",
    "    counter = 0\n",
    "    for i,x in enumerate(class_list):\n",
    "        if x == cluster_list[i]:\n",
    "            counter += 1\n",
    "    return counter/len(class_list)\n",
    "\n"
   ]
  },
  {
   "cell_type": "code",
   "execution_count": 4,
   "metadata": {},
   "outputs": [],
   "source": [
    "class_list_trump = PackToDocks('trump_labelled.txt', 'data_trump')\n",
    "class_list_DNR = PackToDocks('lnr_dnr_labelled.txt', 'data_DNR')\n",
    "\n",
    "for i,c in enumerate(class_list_DNR):\n",
    "    if c == 9:\n",
    "        class_list_DNR[i] = 0"
   ]
  },
  {
   "cell_type": "code",
   "execution_count": 151,
   "metadata": {},
   "outputs": [],
   "source": [
    "def GetVecs(data_path):\n",
    "    file_list = [file for file in os.listdir(data_path) if os.path.isfile(data_path + '/' + file)]\n",
    "    file_list.sort(key = lambda x: int(x[2:-4]))\n",
    "    corpus = []\n",
    "    for file in file_list:\n",
    "        with codecs.open(data_path + '/' + file, 'r', 'utf-8') as f:\n",
    "            corpus.append(f.read())\n",
    "\n",
    "    stopword_set = set(stopwords.words('russian') + [u'тот', u'этот', u'он', u'она', u'оно', u'наш', u'ваш', u'это', u'быть', u'мы', u'ты', u'вы', u'там'])\n",
    "    vectorizer = TfidfVectorizer(stop_words = stopword_set, sublinear_tf = True)\n",
    "\n",
    "    X = vectorizer.fit_transform(corpus)\n",
    "    \n",
    "    return X.toarray()\n",
    "\n",
    "def KMClustering(vecs, n_clusters):\n",
    "    kmeans = KMeans(n_clusters=n_clusters, random_state=0)\n",
    "    kmeans.fit(vecs)\n",
    "    return kmeans.labels_\n",
    "\n",
    "def SClustering(vecs, n_clusters):\n",
    "    sc = SpectralClustering(n_clusters=n_clusters, random_state=0)\n",
    "    sc.fit(vecs)\n",
    "    return sc.labels_\n",
    "\n",
    "def AggClustering(vecs, n_clusters):\n",
    "    agg = AgglomerativeClustering(n_clusters=n_clusters)\n",
    "    agg.fit(vecs)\n",
    "    return agg.labels_\n",
    "\n",
    "def DBSCANClustering(vecs, eps):\n",
    "    wd = DBSCAN(eps = eps)\n",
    "    wd.fit(vecs)\n",
    "    return wd.labels_\n",
    "\n",
    "def BirchClustering(vecs, n_clusters):\n",
    "    bc = Birch(n_clusters=n_clusters)\n",
    "    bc.fit(vecs)\n",
    "    return bc.labels_"
   ]
  },
  {
   "cell_type": "markdown",
   "metadata": {},
   "source": [
    "# KMeans"
   ]
  },
  {
   "cell_type": "code",
   "execution_count": 152,
   "metadata": {},
   "outputs": [],
   "source": [
    "cluster_list_DNR = KMClustering(GetVecs('data_DNR'), 3)\n",
    "cluster_list_trump = KMClustering(GetVecs('data_trump'), 3)"
   ]
  },
  {
   "cell_type": "code",
   "execution_count": 153,
   "metadata": {},
   "outputs": [
    {
     "name": "stdout",
     "output_type": "stream",
     "text": [
      "TRUMP CPS: 0.710407239819\n",
      "DNR CPS: 0.686868686869\n"
     ]
    }
   ],
   "source": [
    "print 'TRUMP CPS: ' + str(CPS(class_list = class_list_trump, cluster_list = cluster_list_trump))\n",
    "print 'DNR CPS: ' + str(CPS(class_list = class_list_DNR, cluster_list = cluster_list_DNR))"
   ]
  },
  {
   "cell_type": "markdown",
   "metadata": {},
   "source": [
    "# SpectralClustering"
   ]
  },
  {
   "cell_type": "code",
   "execution_count": 137,
   "metadata": {},
   "outputs": [],
   "source": [
    "from sklearn.cluster import SpectralClustering\n",
    "\n",
    "cluster_list_DNR = SClustering(GetVecs('data_DNR'), 3)\n",
    "cluster_list_trump = SClustering(GetVecs('data_trump'), 3)"
   ]
  },
  {
   "cell_type": "code",
   "execution_count": 138,
   "metadata": {},
   "outputs": [
    {
     "name": "stdout",
     "output_type": "stream",
     "text": [
      "TRUMP CPS: 0.402714932127\n",
      "DNR CPS: 0.414141414141\n"
     ]
    }
   ],
   "source": [
    "print 'TRUMP CPS: ' + str(CPS(class_list = class_list_trump, cluster_list = cluster_list_trump))\n",
    "print 'DNR CPS: ' + str(CPS(class_list = class_list_DNR, cluster_list = cluster_list_DNR))"
   ]
  },
  {
   "cell_type": "markdown",
   "metadata": {},
   "source": [
    "# AgglomerativeClustering"
   ]
  },
  {
   "cell_type": "code",
   "execution_count": 139,
   "metadata": {},
   "outputs": [],
   "source": [
    "from sklearn.cluster import AgglomerativeClustering\n",
    "\n",
    "cluster_list_DNR = AggClustering(GetVecs('data_DNR'), 3)\n",
    "cluster_list_trump = AggClustering(GetVecs('data_trump'), 3)"
   ]
  },
  {
   "cell_type": "code",
   "execution_count": 140,
   "metadata": {},
   "outputs": [
    {
     "name": "stdout",
     "output_type": "stream",
     "text": [
      "TRUMP CPS: 0.402714932127\n",
      "DNR CPS: 0.464646464646\n"
     ]
    }
   ],
   "source": [
    "print 'TRUMP CPS: ' + str(CPS(class_list = class_list_trump, cluster_list = cluster_list_trump))\n",
    "print 'DNR CPS: ' + str(CPS(class_list = class_list_DNR, cluster_list = cluster_list_DNR))"
   ]
  },
  {
   "cell_type": "markdown",
   "metadata": {},
   "source": [
    "# DBSCAN"
   ]
  },
  {
   "cell_type": "code",
   "execution_count": 141,
   "metadata": {},
   "outputs": [],
   "source": [
    "from sklearn.cluster import DBSCAN\n",
    "\n",
    "cluster_list_DNR = DBSCANClustering(GetVecs('data_DNR'), 1)\n",
    "cluster_list_trump = DBSCANClustering(GetVecs('data_trump'), 1)"
   ]
  },
  {
   "cell_type": "code",
   "execution_count": 142,
   "metadata": {},
   "outputs": [
    {
     "name": "stdout",
     "output_type": "stream",
     "text": [
      "TRUMP CPS: 0.348416289593\n",
      "DNR CPS: 0.414141414141\n"
     ]
    }
   ],
   "source": [
    "print 'TRUMP CPS: ' + str(CPS(class_list = class_list_trump, cluster_list = cluster_list_trump))\n",
    "print 'DNR CPS: ' + str(CPS(class_list = class_list_DNR, cluster_list = cluster_list_DNR))"
   ]
  },
  {
   "cell_type": "markdown",
   "metadata": {},
   "source": [
    "# Birch"
   ]
  },
  {
   "cell_type": "code",
   "execution_count": 143,
   "metadata": {},
   "outputs": [],
   "source": [
    "from sklearn.cluster import Birch\n",
    "\n",
    "cluster_list_DNR = BirchClustering(GetVecs('data_DNR'), 3)\n",
    "cluster_list_trump = BirchClustering(GetVecs('data_trump'), 3)"
   ]
  },
  {
   "cell_type": "code",
   "execution_count": 144,
   "metadata": {},
   "outputs": [
    {
     "name": "stdout",
     "output_type": "stream",
     "text": [
      "TRUMP CPS: 0.511312217195\n",
      "DNR CPS: 0.535353535354\n"
     ]
    }
   ],
   "source": [
    "print 'TRUMP CPS: ' + str(CPS(class_list = class_list_trump, cluster_list = cluster_list_trump))\n",
    "print 'DNR CPS: ' + str(CPS(class_list = class_list_DNR, cluster_list = cluster_list_DNR))"
   ]
  },
  {
   "cell_type": "code",
   "execution_count": 145,
   "metadata": {},
   "outputs": [
    {
     "name": "stdout",
     "output_type": "stream",
     "text": [
      "TRUMP:  [0, 0, 0, 0, 0, 2, 2, 0, 0, 1, 1, 0, 2, 1, 1, 0, 2, 1, 1, 0, 0, 1, 2, 1, 0, 1, 1, 0, 2, 2, 0, 0, 2, 0, 0, 0, 0, 2, 0, 0, 0, 1, 1, 1, 2, 1, 1, 0, 0, 0, 2, 2, 0, 1, 0, 2, 1, 0, 2, 1, 2, 0, 0, 0, 0, 0, 0, 0, 2, 2, 2, 0, 2, 2, 1, 1, 2, 2, 1, 0, 2, 2, 1, 1, 1, 1, 2, 2, 2, 2, 2, 2, 1, 1, 1, 2, 2, 2, 1, 2, 2, 2, 1, 2, 1, 2, 2, 1, 2, 2, 2, 2, 2, 1, 1, 2, 1, 1, 1, 2, 1, 1, 1, 1, 1, 1, 2, 2, 1, 1, 2, 1, 2, 1, 1, 2, 1, 2, 2, 2, 1, 1, 2, 2, 2, 1, 2, 2, 2, 2, 1, 1, 2, 1, 2, 2, 2, 2, 2, 2, 1, 1, 1, 2, 1, 2, 1, 1, 1, 2, 2, 1, 1, 1, 1, 1, 2, 1, 1, 1, 1, 2, 1, 1, 2, 1, 2, 1, 1, 1, 1, 1, 2, 1, 1, 2, 1, 2, 1, 2, 2, 2, 2, 1, 2, 1, 1, 1, 2, 1, 1, 2, 1, 2, 1, 1, 1, 2, 2, 1, 1]\n",
      "[0 2 2 2 2 0 1 2 2 0 0 0 0 0 1 0 2 2 1 2 2 0 0 2 2 2 0 2 2 2 2 2 2 2 2 0 0\n",
      " 2 2 2 2 0 2 1 2 2 1 0 2 2 2 2 2 1 2 2 2 2 2 1 2 0 2 2 0 2 2 2 2 2 0 2 2 2\n",
      " 1 1 2 2 1 2 2 2 1 2 2 2 2 2 2 2 2 2 1 1 1 2 2 2 1 2 2 2 1 2 2 2 2 2 2 2 2\n",
      " 2 2 2 2 2 2 2 2 2 2 2 1 2 2 2 2 2 2 0 2 1 2 2 2 2 2 2 2 2 0 2 2 2 2 2 2 2\n",
      " 2 2 0 2 2 2 2 2 2 2 2 2 1 1 2 2 1 2 2 2 2 2 2 2 2 2 2 2 2 2 2 2 2 2 2 2 2\n",
      " 2 2 2 2 2 2 2 2 2 2 2 2 2 2 2 2 2 2 2 2 2 0 2 2 2 2 2 2 2 2 2 1 2 2 2 2]\n",
      "DNR:  [1, 0, 0, 0, 1, 0, 0, 2, 2, 1, 2, 2, 1, 1, 1, 0, 2, 0, 0, 2, 2, 0, 0, 2, 2, 0, 2, 1, 2, 2, 1, 0, 1, 2, 0, 0, 2, 0, 2, 2, 0, 0, 2, 2, 1, 2, 2, 1, 2, 1, 0, 0, 1, 0, 1, 0, 2, 0, 2, 0, 1, 2, 0, 0, 0, 2, 0, 0, 0, 0, 1, 0, 2, 0, 0, 0, 2, 0, 2, 2, 2, 2, 1, 0, 1, 1, 0, 2, 2, 2, 2, 2, 2, 0, 0, 1, 0, 0, 1]\n",
      "[1 0 0 0 1 0 0 0 0 0 0 0 0 0 0 0 0 0 0 0 0 0 0 0 0 0 0 1 2 0 0 0 1 0 0 0 2\n",
      " 0 0 0 0 0 0 0 0 0 0 1 0 0 0 0 0 0 0 0 2 0 0 0 0 0 0 0 0 0 0 0 0 0 0 0 0 0\n",
      " 0 2 0 0 0 0 0 2 0 0 0 0 0 2 0 2 0 0 2 0 0 1 0 0 0]\n"
     ]
    }
   ],
   "source": [
    "print 'TRUMP: ', class_list_trump\n",
    "print cluster_list_trump\n",
    "\n",
    "print 'DNR: ', class_list_DNR\n",
    "print cluster_list_DNR\n"
   ]
  },
  {
   "cell_type": "code",
   "execution_count": null,
   "metadata": {},
   "outputs": [],
   "source": []
  },
  {
   "cell_type": "code",
   "execution_count": null,
   "metadata": {},
   "outputs": [],
   "source": []
  }
 ],
 "metadata": {
  "kernelspec": {
   "display_name": "Python 2",
   "language": "python",
   "name": "python2"
  },
  "language_info": {
   "codemirror_mode": {
    "name": "ipython",
    "version": 2
   },
   "file_extension": ".py",
   "mimetype": "text/x-python",
   "name": "python",
   "nbconvert_exporter": "python",
   "pygments_lexer": "ipython2",
   "version": "2.7.15rc1"
  }
 },
 "nbformat": 4,
 "nbformat_minor": 2
}
