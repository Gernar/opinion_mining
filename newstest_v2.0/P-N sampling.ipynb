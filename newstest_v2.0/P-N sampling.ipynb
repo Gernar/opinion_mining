{
 "cells": [
  {
   "cell_type": "markdown",
   "metadata": {},
   "source": [
    "# Готовим данные"
   ]
  },
  {
   "cell_type": "code",
   "execution_count": 4,
   "metadata": {},
   "outputs": [],
   "source": [
    "from __future__ import division\n",
    "from parser import PackToDocks\n",
    "from udpipe_model import Model\n",
    "import codecs \n",
    "import os\n",
    "from wiki_ru_wordnet import WikiWordnet\n",
    "import xlrd\n",
    "import glob\n",
    "from sklearn.cluster import KMeans\n",
    "import artm\n",
    "import numpy as np\n",
    "from itertools import combinations\n",
    "class_list_trump = PackToDocks('trump_labelled.txt', 'data_trump')\n",
    "\n",
    "class_list_DNR = PackToDocks('lnr_dnr_labelled.txt', 'data_DNR')\n",
    "    "
   ]
  },
  {
   "cell_type": "markdown",
   "metadata": {},
   "source": [
    "<b>Расскажу о том как работает метрика качества CPS (название придумал сам) :</b>\n",
    "    На вход функции принимает два массива - массив \"настоящих\" кластеров и массив \"наших\" кластеров (тех, что даст нам kmeans). Далее алгоритм выбирает такую нумерацию кластеров в массиве \"наших\" кластеров, при которой количество совпадений кластеров между массивами будет наибольшим. Другими словами, подбирается наиболее оптимальная нумерация кластеров. \n",
    "    Далее, алгоритм считает количество совпадений кластеров в \"настоящем\" и \"нашем\" массиве класте и делит его на длину массива кластеров (количество документов). \n",
    "    Метрика принимает значния от 0 до 1, где 0 соответствует нулю совпадений кластеров (в силу особенности алгоритма, ноль никогда не может быть получен), а 1 - идеальной кластеризации. "
   ]
  },
  {
   "cell_type": "markdown",
   "metadata": {},
   "source": [
    "<b>Основной недостаток метрики PWS: </b>\n",
    "Дело в том, что функция считает количество совпадений \"наших\" кластеров при совпадающих \"настоящих\" кластерах. Соответственно, чем меньше кластеризированы документы, тем больше метрика покажет значение. Например, при вырожденной кластеризации (в 1 кластер), метрика покажет значение 1.0, что не есть правильно"
   ]
  },
  {
   "cell_type": "markdown",
   "metadata": {},
   "source": [
    "<b>На мой взгляд, метрика CPS является более адекватной, поэтому будет оценивать качество по ней. Ради интереса посмотрим на соответсвующие значения PWS</b>"
   ]
  },
  {
   "cell_type": "code",
   "execution_count": 5,
   "metadata": {},
   "outputs": [],
   "source": [
    "def Add(word, dictionary, score):\n",
    "    if word in dictionary:\n",
    "        dictionary[word] += score\n",
    "    else:\n",
    "        dictionary[word] = score\n",
    "        \n",
    "def Distr(dictionary, pos_dic, neg_dic):\n",
    "    for word in dictionary:\n",
    "        if dictionary[word] > 0:\n",
    "            if word in pos_dic:\n",
    "                pos_dic[word] +=1\n",
    "            else:\n",
    "                pos_dic[word] = 1\n",
    "        elif dictionary[word] < 0:\n",
    "            if word in neg_dic:\n",
    "                neg_dic[word] +=1\n",
    "            else:\n",
    "                neg_dic[word] = 1\n",
    "        \n",
    "def Score(word, wordnet, workbook):\n",
    "    \n",
    "    worksheet = workbook.sheet_by_index(0)\n",
    "    score = 0\n",
    "    synsets = wordnet.get_synsets(word)\n",
    "    if bool(synsets):\n",
    "        synset = synsets[0]\n",
    "        synlist = [i.lemma() for i in synset.get_words()]\n",
    "    else:\n",
    "        synlist = [word]\n",
    "    #print synlist   \n",
    "    counter = 0\n",
    "    for token in synlist:\n",
    "        flag = False\n",
    "        for i in range(worksheet.nrows):\n",
    "            #print 'checking: ' + worksheet.cell(i, 0).value + '==' + token\n",
    "            if token == worksheet.cell(i, 0).value:\n",
    "                #print 'WHAT'\n",
    "                counter +=1\n",
    "                flag = True\n",
    "                score += int(worksheet.cell(i, 1).value)\n",
    "            elif flag:\n",
    "                break\n",
    "    if counter:\n",
    "        score /= counter\n",
    "    else:\n",
    "        score = 0\n",
    "        \n",
    "    return score\n",
    "\n",
    "def PWS(class_list, cluster_list):\n",
    "    PW = 0\n",
    "    counter = 0\n",
    "    for i, x in enumerate(class_list):\n",
    "        for j, y in enumerate(class_list):\n",
    "            if x == y:\n",
    "                counter += 1\n",
    "                PW += int(cluster_list[i] == cluster_list[j])\n",
    "\n",
    "    return (PW/counter)\n",
    "\n",
    "\n",
    "def ClearTable(table):\n",
    "\tfor i in table:\n",
    "\t\tif i[0]==i[1]:\n",
    "\t\t\ttable[i] == False\n",
    "\t\telse:\n",
    "\t\t\ttable[i] == 0\n",
    "\n",
    "def Add(dic, value):\n",
    "\tif value in dic:\n",
    "\t\tdic[value] +=1\n",
    "\telse:\n",
    "\t\tdic[value] = 1\n",
    "\n",
    "def All(dic):\n",
    "\tfor i in dic:\n",
    "\t\tif i[0] == i[1] and dic[i] == False:\n",
    "\t\t\treturn False\n",
    "\treturn True\n",
    "\n",
    "def GetDict(cluster_list, class_list):\n",
    "\ts = set()\n",
    "\td = {}\n",
    "\tfor x in cluster_list:\n",
    "\t\ts.add(x)\n",
    "\tfor kek in s:\n",
    "\t\tself_d = {}\n",
    "\t\tfor i in s:\n",
    "\t\t\tself_d[i] = 0\n",
    "\t\tfor i in range(len(cluster_list)):\n",
    "\t\t\tif cluster_list[i] == kek:\n",
    "\t\t\t\tAdd(self_d, class_list[i])\n",
    "\t\td[kek] = dict(self_d)\n",
    "\treturn d\n",
    "def Swap(cluster_list, class_list, max_key):\n",
    "\tfor i in range(len(cluster_list)):\n",
    "\t\tif cluster_list[i] == max_key[0]:\n",
    "\t\t\tcluster_list[i] = max_key[1]\n",
    "\t\telif cluster_list[i] == max_key[1]:\n",
    "\t\t\tcluster_list[i] = max_key[0]\n",
    "def CPS(cluster_list, class_list):\n",
    "\ts = set()\n",
    "\tfor x in cluster_list:\n",
    "\t\ts.add(x)\n",
    "\ttable = {}\n",
    "\tfor i in combinations(list(s), 2):\n",
    "\t\ttable[i] = 0\n",
    "\tfor i in s:\n",
    "\t\ttable[(i, i)] = False\n",
    "\twhile True:\n",
    "\t\td = GetDict(cluster_list, class_list)\n",
    "\t\tfor line in table:\n",
    "\t\t\tif line[0] != line[1]:\n",
    "\t\t\t\ttable[line] = d[line[0]][line[1]] + d[line[1]][line[0]]\n",
    "\t\t\telse:\n",
    "\t\t\t\ttable[line] = d[line[0]][line[1]]\n",
    "\t\tmax_key = None\n",
    "\t\tfor line in table:\n",
    "\t\t\tif table[line] > table[(line[0], line[0])] + table[(line[1], line[1])]:\n",
    "\t\t\t\tif max_key == None:\n",
    "\t\t\t\t\tmax_key = line\n",
    "\t\t\t\telif table[max_key] < table[line]:\n",
    "\t\t\t\t\tmax_key = line\n",
    "\t\tif max_key == None:\n",
    "\t\t\tbreak\n",
    "\t\telse:\n",
    "\t\t\tSwap(cluster_list, class_list, max_key)\n",
    "\n",
    "\tcounter = 0\n",
    "\tfor i,x in enumerate(class_list):\n",
    "\t\tif x == cluster_list[i]:\n",
    "\t\t\tcounter += 1\n",
    "\treturn counter/len(class_list)"
   ]
  },
  {
   "cell_type": "code",
   "execution_count": 59,
   "metadata": {},
   "outputs": [],
   "source": [
    "model = Model('fi_ud-rus.model')\n",
    "\n",
    "file_list = [file for file in os.listdir('data_DNR') if os.path.isfile('data_DNR' + '/' + file)]\n",
    "file_list.sort(key = lambda x: int(x[2:-4]))\n",
    "\n",
    "with codecs.open('vw.DNR.txt', 'w', 'utf-8') as f:\n",
    "    for i, file in enumerate(file_list):\n",
    "        sentences = model.tokenize(codecs.open('data_DNR/' + file, 'r', 'utf-8').read())\n",
    "        for s in sentences:\n",
    "            model.tag(s)\n",
    "            model.parse(s)\n",
    "        conllu = model.write(sentences, \"conllu\")\n",
    "\n",
    "        flag = False\n",
    "        deps = []\n",
    "        dep = []\n",
    "        for line in conllu.split('\\n'):\n",
    "            #print line\n",
    "            if len(line) > 1 and line[0] == '1':\n",
    "                flag = True\n",
    "            elif len(line) == 0:\n",
    "                flag = False\n",
    "                if dep != []:\n",
    "                    deps.append(dep)\n",
    "                    dep = []\n",
    "            if flag:\n",
    "                dep.append(line.split('\\t'))\n",
    "\n",
    "        positive = {}\n",
    "        negative = {}\n",
    "\n",
    "        wordnet = WikiWordnet()\n",
    "        workbook = xlrd.open_workbook('full word_rating_after_coding.xlsx')\n",
    "        for dep in deps:\n",
    "            #print dep\n",
    "            dic = {}\n",
    "            for line in dep:\n",
    "                #print u' '.join(line)\n",
    "                score = Score(line[2], wordnet, workbook)\n",
    "                #print score\n",
    "                reverse = []\n",
    "                if score != 0:\n",
    "                    if (line[3] == 'NOUN'or 'ADJ' or 'ADV') and len(line) > 5:\n",
    "                         if dep[int(line[6])-1][3] != 'ADP' and dep[int(line[6])-1][3] != 'PUNCT':\n",
    "                            Add(dep[int(line[6])-1][2], dic, score)\n",
    "                    elif line[3] == 'VERB': \n",
    "                        for l in dep:\n",
    "                            if len(l) > 5 and dep[int(l[6])-1] == line and (l[7] == 'nsubj' or 'obj'):\n",
    "                                Add(l[2], dic, score)\n",
    "\n",
    "            for l in dep:\n",
    "                if l[2] == u'не' and len(l) > 5 and dep[int(l[6])-1][2] in dic:\n",
    "                    dic[dep[int(l[6])-1][2]] *= -1\n",
    "                    #print type(u'не')          \n",
    "            #print m\n",
    "            Distr(dictionary = dic, neg_dic = negative, pos_dic = positive)\n",
    "\n",
    "        pos = [w + ':' + str(positive[w]) for w in positive]\n",
    "        neg = [w + ':' + str(negative[w]) for w in negative]\n",
    "        string = u'{0} |@positive {1} |@negative {2}'.format(str(i), u' '.join(pos), u' '.join(neg))\n",
    "        f.write(string + '\\n')\n",
    "        #print str(i)+'/'+str(len(file_list)) + ' DONE'\n",
    "\n",
    "print 'SUCCESS' \n"
   ]
  },
  {
   "cell_type": "markdown",
   "metadata": {},
   "source": [
    "<b>Данные готовы</b>"
   ]
  },
  {
   "cell_type": "markdown",
   "metadata": {},
   "source": [
    "# Строим тематическую модель"
   ]
  },
  {
   "cell_type": "code",
   "execution_count": 6,
   "metadata": {},
   "outputs": [],
   "source": [
    "def print_measures(model_artm):\n",
    "    print 'Sparsity Phi Subj: {} (ARTM)'.format(\n",
    "        model_artm.score_tracker['SparsityPhiSubjScore'].last_value)\n",
    "\n",
    "    print 'Sparsity Phi Obj: {} (ARTM)'.format(\n",
    "        model_artm.score_tracker['SparsityPhiObjScore'].last_value)\n",
    "\n",
    "    print 'Sparsity Theta: {} (ARTM)'.format(\n",
    "        model_artm.score_tracker['SparsityThetaScore'].last_value)\n",
    "\n",
    "    print 'Kernel Subj contrast: {} (ARTM)'.format(\n",
    "        model_artm.score_tracker['TopicKernelSubjScore'].last_average_contrast)\n",
    "\n",
    "    print 'Kernel Subj purity: {} (ARTM)'.format(\n",
    "        model_artm.score_tracker['TopicKernelSubjScore'].last_average_purity)\n",
    "\n",
    "    print 'Kernel Obj contrast: {} (ARTM)'.format(\n",
    "        model_artm.score_tracker['TopicKernelObjScore'].last_average_contrast)\n",
    "\n",
    "    print 'Kernel Obj purity: {} (ARTM)'.format(\n",
    "        model_artm.score_tracker['TopicKernelObjScore'].last_average_purity)\n",
    "\n",
    "    print 'Perplexity: {} (ARTM)'.format(\n",
    "        model_artm.score_tracker['PerplexityScore'].last_value)\n",
    "\n",
    "    plt.plot(xrange(model_artm.num_phi_updates),\n",
    "             model_artm.score_tracker['PerplexityScore'].value, 'r--', linewidth=2)\n",
    "    plt.xlabel('Iterations count')\n",
    "    plt.ylabel('ARTM perp. (red)')\n",
    "    plt.grid(True)\n",
    "    plt.show()\n",
    "    "
   ]
  },
  {
   "cell_type": "markdown",
   "metadata": {},
   "source": [
    "<b>Обозначим переменные величины, от которых будет зависить наша модель</b>"
   ]
  },
  {
   "cell_type": "code",
   "execution_count": 7,
   "metadata": {},
   "outputs": [],
   "source": [
    "N_TOPIC = 5\n",
    "N_FONT_TOPICS = 2\n",
    "MIN_TF = 2\n",
    "NEG_WEIGHT = 0.5\n",
    "POS_WEIGHT = 1\n",
    "#[4, 2, 3, 1, 1]\n",
    "\n",
    "SPARSE_PHI_MAIN = 0\n",
    "SPARSE_THETA_MAIN = -0.75\n",
    "SPARSE_PHI_FONT = 1\n",
    "SPARSE_THETA_FONT = 1\n",
    "DECORR_PHI = 0\n",
    "#[-1, -1, 1, 1, 0]\n",
    "\n",
    "class_ids_phi_main_sparse = ['@negative', '@positive']\n",
    "class_ids_phi_font_sparse = ['@negative', '@positive']\n",
    "#['@negative', '@positive']\n",
    "#['@positive']\n",
    "#['@negative']\n",
    "NUM_COLLECTION_PASSES = 15\n",
    "\n",
    "N_CLUSTERS_TRUMP = 3\n",
    "\n",
    "N_CLUSTERS_DNR = 10"
   ]
  },
  {
   "cell_type": "markdown",
   "metadata": {},
   "source": [
    "<b>Создаем пакеты и словарь</b>"
   ]
  },
  {
   "cell_type": "code",
   "execution_count": 8,
   "metadata": {},
   "outputs": [],
   "source": [
    "batch_vectorizer_trump = None\n",
    "if len(glob.glob(os.path.join('TM/my_batches_trump', '*.batch'))) < 1:\n",
    "    batch_vectorizer_trump = artm.BatchVectorizer(data_path='TM/vw.trump.txt', data_format='vowpal_wabbit', target_folder='TM/my_batches_trump')\n",
    "else:\n",
    "    batch_vectorizer_trump = artm.BatchVectorizer(data_path='TM/my_batches_trump', data_format='batches')\n",
    "    \n",
    "#######################################\n",
    "\n",
    "batch_vectorizer_DNR = None\n",
    "if len(glob.glob(os.path.join('TM/my_batches_DNR', '*.batch'))) < 1:\n",
    "    batch_vectorizer_DNR = artm.BatchVectorizer(data_path='TM/vw.DNR.txt', data_format='vowpal_wabbit', target_folder='TM/my_batches_DNR')\n",
    "else:\n",
    "    batch_vectorizer_DNR = artm.BatchVectorizer(data_path='TM/my_batches_DNR', data_format='batches')\n"
   ]
  },
  {
   "cell_type": "code",
   "execution_count": 9,
   "metadata": {},
   "outputs": [
    {
     "data": {
      "text/plain": [
       "artm.Dictionary(name=587df534-63a0-4202-b3e9-065301b7a406, num_entries=524)"
      ]
     },
     "execution_count": 9,
     "metadata": {},
     "output_type": "execute_result"
    }
   ],
   "source": [
    "dictionary_trump = artm.Dictionary()\n",
    "#dictionary_trump.gather(data_path='TM/my_batches_trump')\n",
    "#dictionary_trump.save(dictionary_path='TM/my_batches_trump/my_dictionary_trump')\n",
    "dictionary_trump.load(dictionary_path='TM/my_batches_trump/my_dictionary_trump.dict')\n",
    "dictionary_trump.filter(min_tf = MIN_TF)\n",
    "\n",
    "###################################\n",
    "\n",
    "dictionary_DNR = artm.Dictionary()\n",
    "#dictionary_DNR.gather(data_path='TM/my_batches_DNR')\n",
    "#dictionary_DNR.save(dictionary_path='TM/my_batches_DNR/my_dictionary_DNR')\n",
    "dictionary_DNR.load(dictionary_path='TM/my_batches_DNR/my_dictionary_DNR.dict')\n",
    "dictionary_DNR.filter(min_tf = MIN_TF)"
   ]
  },
  {
   "cell_type": "markdown",
   "metadata": {},
   "source": [
    "<b>Инициализируем модель и добавляем регуляризаторы</b>"
   ]
  },
  {
   "cell_type": "code",
   "execution_count": 10,
   "metadata": {},
   "outputs": [],
   "source": [
    "topic_names = ['topic_{}'.format(i) for i in xrange(N_TOPIC)]\n",
    "\n",
    "model_trump = artm.ARTM(num_topics=N_TOPIC, dictionary=dictionary_trump, cache_theta = True, class_ids={'@positive': POS_WEIGHT, '@negative': NEG_WEIGHT})\n",
    "\n",
    "model_trump.scores.add(artm.PerplexityScore(name = 'PerplexityScore'))\n",
    "model_trump.scores.add(artm.SparsityPhiScore(name='SparsityPhiNegScore', class_id = '@negative'))\n",
    "model_trump.scores.add(artm.SparsityPhiScore(name='SparsityPhiPosScore', class_id = '@positive'))\n",
    "model_trump.scores.add(artm.SparsityThetaScore(name='SparsityThetaScore'))\n",
    "model_trump.scores.add(artm.TopicKernelScore(name='TopicKernelPosScore', class_id = '@positive'))\n",
    "model_trump.scores.add(artm.TopicKernelScore(name='TopicKernelNegScore', class_id = '@negative'))\n",
    "\n",
    "##############################################\n",
    "\n",
    "topic_names = ['topic_{}'.format(i) for i in xrange(N_TOPIC)]\n",
    "\n",
    "model_DNR = artm.ARTM(num_topics=N_TOPIC, dictionary=dictionary_DNR, cache_theta = True, class_ids={'@positive': POS_WEIGHT, '@negative': NEG_WEIGHT})\n",
    "\n",
    "model_DNR.scores.add(artm.PerplexityScore(name = 'PerplexityScore'))\n",
    "model_DNR.scores.add(artm.SparsityPhiScore(name='SparsityPhiNegScore', class_id = '@negative'))\n",
    "model_DNR.scores.add(artm.SparsityPhiScore(name='SparsityPhiPosScore', class_id = '@positive'))\n",
    "model_DNR.scores.add(artm.SparsityThetaScore(name='SparsityThetaScore'))\n",
    "model_DNR.scores.add(artm.TopicKernelScore(name='TopicKernelPosScore', class_id = '@positive'))\n",
    "model_DNR.scores.add(artm.TopicKernelScore(name='TopicKernelNegScore', class_id = '@negative'))"
   ]
  },
  {
   "cell_type": "code",
   "execution_count": 11,
   "metadata": {},
   "outputs": [],
   "source": [
    "model_trump.regularizers.add(artm.SmoothSparsePhiRegularizer(name='sparse_phi_main_regularizer', \n",
    "                                                             topic_names = ['topic_{}'.format(i) for i in xrange(N_TOPIC - N_FONT_TOPICS)], \n",
    "                                                             class_ids = class_ids_phi_main_sparse))\n",
    "model_trump.regularizers.add(artm.DecorrelatorPhiRegularizer(name='decorrelator_phi_regularizer'))\n",
    "model_trump.regularizers.add(artm.SmoothSparsePhiRegularizer(name='sparse_phi_font_regularizer', \n",
    "                                                             topic_names = ['topic_{}'.format(i) for i in xrange(N_TOPIC - N_FONT_TOPICS, N_TOPIC)], \n",
    "                                                             class_ids = class_ids_phi_font_sparse))\n",
    "\n",
    "model_trump.regularizers.add(artm.SmoothSparseThetaRegularizer(name='sparse_theta_font_regularizer', \n",
    "                                                               topic_names = ['topic_{}'.format(i) for i in xrange(N_TOPIC - N_FONT_TOPICS, N_TOPIC)]))\n",
    "model_trump.regularizers.add(artm.SmoothSparseThetaRegularizer(name='sparse_theta_main_regularizer', \n",
    "                                                               topic_names = ['topic_{}'.format(i) for i in xrange(N_TOPIC - N_FONT_TOPICS)]))\n",
    "\n",
    "##################################\n",
    "\n",
    "model_DNR.regularizers.add(artm.SmoothSparsePhiRegularizer(name='sparse_phi_main_regularizer', \n",
    "                                                           topic_names = ['topic_{}'.format(i) for i in xrange(N_TOPIC - N_FONT_TOPICS)], \n",
    "                                                           class_ids = class_ids_phi_main_sparse))\n",
    "model_DNR.regularizers.add(artm.DecorrelatorPhiRegularizer(name='decorrelator_phi_regularizer'))\n",
    "model_DNR.regularizers.add(artm.SmoothSparsePhiRegularizer(name='sparse_phi_font_regularizer', \n",
    "                                                           topic_names = ['topic_{}'.format(i) for i in xrange(N_TOPIC - N_FONT_TOPICS, N_TOPIC)], \n",
    "                                                           class_ids = class_ids_phi_font_sparse))\n",
    "\n",
    "model_DNR.regularizers.add(artm.SmoothSparseThetaRegularizer(name='sparse_theta_font_regularizer', \n",
    "                                                             topic_names = ['topic_{}'.format(i) for i in xrange(N_TOPIC - N_FONT_TOPICS, N_TOPIC)]))\n",
    "model_DNR.regularizers.add(artm.SmoothSparseThetaRegularizer(name='sparse_theta_main_regularizer', \n",
    "                                                             topic_names = ['topic_{}'.format(i) for i in xrange(N_TOPIC - N_FONT_TOPICS)]))"
   ]
  },
  {
   "cell_type": "code",
   "execution_count": 12,
   "metadata": {},
   "outputs": [],
   "source": [
    "model_trump.regularizers['sparse_phi_main_regularizer'].tau = SPARSE_PHI_MAIN\n",
    "model_trump.regularizers['sparse_theta_main_regularizer'].tau = SPARSE_THETA_MAIN\n",
    "model_trump.regularizers['sparse_phi_font_regularizer'].tau = SPARSE_PHI_FONT\n",
    "model_trump.regularizers['sparse_theta_font_regularizer'].tau = SPARSE_THETA_FONT\n",
    "model_trump.regularizers['decorrelator_phi_regularizer'].tau = DECORR_PHI\n",
    "\n",
    "############################\n",
    "\n",
    "model_DNR.regularizers['sparse_phi_main_regularizer'].tau = SPARSE_PHI_MAIN\n",
    "model_DNR.regularizers['sparse_theta_main_regularizer'].tau = SPARSE_THETA_MAIN\n",
    "model_DNR.regularizers['sparse_phi_font_regularizer'].tau = SPARSE_PHI_FONT\n",
    "model_DNR.regularizers['sparse_theta_font_regularizer'].tau = SPARSE_THETA_FONT\n",
    "model_DNR.regularizers['decorrelator_phi_regularizer'].tau = DECORR_PHI\n"
   ]
  },
  {
   "cell_type": "code",
   "execution_count": 13,
   "metadata": {},
   "outputs": [],
   "source": [
    "model_trump.fit_offline(batch_vectorizer=batch_vectorizer_trump, num_collection_passes=NUM_COLLECTION_PASSES)\n",
    "\n",
    "##########################\n",
    "\n",
    "model_DNR.fit_offline(batch_vectorizer=batch_vectorizer_DNR, num_collection_passes=NUM_COLLECTION_PASSES)"
   ]
  },
  {
   "cell_type": "markdown",
   "metadata": {},
   "source": [
    "<b>Извлекаем вектора-признаки наших документов. Для этого мы берем только предметные темы, которые мы разреживали</b>"
   ]
  },
  {
   "cell_type": "code",
   "execution_count": 14,
   "metadata": {},
   "outputs": [],
   "source": [
    "theta_trump = model_trump.get_theta()\n",
    "lines_trump = np.array([np.array(theta_trump[i])[:N_TOPIC - N_FONT_TOPICS] for i in list(theta_trump)])\n",
    "\n",
    "###########################\n",
    "\n",
    "theta_DNR = model_DNR.get_theta()\n",
    "lines_DNR = np.array([np.array(theta_DNR[i])[:N_TOPIC - N_FONT_TOPICS] for i in list(theta_DNR)])"
   ]
  },
  {
   "cell_type": "markdown",
   "metadata": {},
   "source": [
    "<b>Ради любопытства можно посмтреть на наши матрицы</b>"
   ]
  },
  {
   "cell_type": "code",
   "execution_count": 15,
   "metadata": {},
   "outputs": [
    {
     "name": "stdout",
     "output_type": "stream",
     "text": [
      "              0         1         2         3         4         5         6    \\\n",
      "topic_0  0.000000  0.000000  0.000000  0.000000  0.000000  0.459943  0.000000   \n",
      "topic_1  0.000000  0.000000  0.000000  0.000000  0.000000  0.000000  0.000000   \n",
      "topic_2  0.412535  0.000000  0.000000  0.000000  0.000000  0.313959  0.000000   \n",
      "topic_3  0.220463  0.554869  0.554869  0.656478  0.656478  0.123260  0.296181   \n",
      "topic_4  0.367002  0.445131  0.445131  0.343522  0.343522  0.102838  0.703819   \n",
      "\n",
      "              7         8         9    ...       211       212       213  \\\n",
      "topic_0  0.000000  0.175258  0.533812  ...  0.000000  0.000000  0.000000   \n",
      "topic_1  0.000000  0.000000  0.000000  ...  0.000000  0.000000  0.000000   \n",
      "topic_2  0.434713  0.000000  0.000000  ...  0.000000  0.000000  0.000000   \n",
      "topic_3  0.172323  0.191387  0.273895  ...  0.701945  0.111664  0.181682   \n",
      "topic_4  0.392964  0.633355  0.192294  ...  0.298055  0.888336  0.818318   \n",
      "\n",
      "              214       215       216       217       218     219       220  \n",
      "topic_0  0.000000  0.000000  0.000000  0.612647  0.000000  0.0000  0.000000  \n",
      "topic_1  0.000000  0.000000  0.000000  0.000000  0.000000  0.0000  0.000000  \n",
      "topic_2  0.000000  0.000000  0.000000  0.000000  0.000000  0.0000  0.000000  \n",
      "topic_3  0.246112  0.088761  0.697891  0.175315  0.718958  0.5465  0.458388  \n",
      "topic_4  0.753888  0.911239  0.302109  0.212038  0.281042  0.4535  0.541612  \n",
      "\n",
      "[5 rows x 221 columns]\n",
      "*******************\n",
      "               0         1         2        3         4         5         6   \\\n",
      "topic_0  0.000000  0.000000  0.000000  0.00000  0.000000  0.000000  0.000000   \n",
      "topic_1  0.000000  0.000000  0.900341  0.00000  0.000000  0.000000  0.900055   \n",
      "topic_2  0.000000  0.000000  0.000000  0.00000  0.000000  0.000000  0.000000   \n",
      "topic_3  0.858149  0.165935  0.050802  0.21953  0.827408  0.850423  0.050987   \n",
      "topic_4  0.141851  0.834065  0.048857  0.78047  0.172592  0.149577  0.048958   \n",
      "\n",
      "               7         8         9   ...       89        90        91  \\\n",
      "topic_0  0.000000  0.000000  0.897911  ...  0.00000  0.000000  0.000000   \n",
      "topic_1  0.000000  0.000000  0.000000  ...  0.00000  0.000000  0.000000   \n",
      "topic_2  0.000000  0.000000  0.000000  ...  0.00000  0.000000  0.000000   \n",
      "topic_3  0.206643  0.127635  0.068533  ...  0.79211  0.176278  0.206412   \n",
      "topic_4  0.793357  0.872365  0.033555  ...  0.20789  0.823722  0.793588   \n",
      "\n",
      "               92        93        94        95       96        97        98  \n",
      "topic_0  0.000000  0.000000  0.000000  0.000000  0.00000  0.000000  0.000000  \n",
      "topic_1  0.000000  0.000000  0.000000  0.000000  0.00000  0.000000  0.000000  \n",
      "topic_2  0.777915  0.000000  0.000000  0.000000  0.00000  0.000000  0.000000  \n",
      "topic_3  0.115793  0.388309  0.809723  0.880993  0.76229  0.702092  0.264573  \n",
      "topic_4  0.106292  0.611691  0.190277  0.119007  0.23771  0.297908  0.735428  \n",
      "\n",
      "[5 rows x 99 columns]\n"
     ]
    }
   ],
   "source": [
    "print theta_trump\n",
    "print '*******************'\n",
    "print theta_DNR"
   ]
  },
  {
   "cell_type": "markdown",
   "metadata": {},
   "source": [
    "<b>Дальше небольшой отчет по основным счетчикам</b>"
   ]
  },
  {
   "cell_type": "code",
   "execution_count": 16,
   "metadata": {},
   "outputs": [
    {
     "name": "stdout",
     "output_type": "stream",
     "text": [
      "TRUMP: \n",
      "6383.78173828\n",
      "0.531958758831\n",
      "0.530964493752\n",
      "0.558371067047\n",
      "-----------------------------\n",
      "DNR: \n",
      "8840.29199219\n",
      "0.396987944841\n",
      "0.416666656733\n",
      "0.547474741936\n"
     ]
    }
   ],
   "source": [
    "print 'TRUMP: '\n",
    "print model_trump.score_tracker['PerplexityScore'].last_value\n",
    "print model_trump.score_tracker['SparsityPhiNegScore'].last_value\n",
    "print model_trump.score_tracker['SparsityPhiPosScore'].last_value\n",
    "print model_trump.score_tracker['SparsityThetaScore'].last_value\n",
    "#print model_trump.score_tracker['TopicKernelPosScore'].last_value\n",
    "#print model_trump.score_tracker['TopicKernelNegScore'].last_value\n",
    "print '-----------------------------'\n",
    "#########################################\n",
    "print 'DNR: '\n",
    "print model_DNR.score_tracker['PerplexityScore'].last_value\n",
    "print model_DNR.score_tracker['SparsityPhiNegScore'].last_value\n",
    "print model_DNR.score_tracker['SparsityPhiPosScore'].last_value\n",
    "print model_DNR.score_tracker['SparsityThetaScore'].last_value\n",
    "#print model.score_tracker['TopicKernelPosScore'].last_value\n",
    "#print model.score_tracker['TopicKernelNegScore'].last_value"
   ]
  },
  {
   "cell_type": "markdown",
   "metadata": {},
   "source": [
    "<b>Пользуемся методом к-средних, представленным в библиотеке sklearn</b>"
   ]
  },
  {
   "cell_type": "code",
   "execution_count": 17,
   "metadata": {},
   "outputs": [],
   "source": [
    "kmeans = KMeans(n_clusters = N_CLUSTERS_TRUMP)\n",
    "kmeans.fit(lines_trump)\n",
    "\n",
    "cluster_list_trump = kmeans.labels_\n",
    "\n",
    "#################################\n",
    "\n",
    "kmeans = KMeans(n_clusters = N_CLUSTERS_DNR)\n",
    "kmeans.fit(lines_DNR)\n",
    "\n",
    "cluster_list_DNR = kmeans.labels_"
   ]
  },
  {
   "cell_type": "markdown",
   "metadata": {},
   "source": [
    "# Оценка качества модели"
   ]
  },
  {
   "cell_type": "code",
   "execution_count": 18,
   "metadata": {},
   "outputs": [
    {
     "name": "stdout",
     "output_type": "stream",
     "text": [
      "TRUMP PWS: 0.777996177996\n",
      "DNR PWS: 0.571906354515\n",
      "=========================================\n",
      "TRUMP CPS: 0.466063348416\n",
      "DNR CPS: 0.343434343434\n"
     ]
    }
   ],
   "source": [
    "print 'TRUMP PWS: ' + str(PWS(class_list = class_list_trump, cluster_list = cluster_list_trump))\n",
    "print 'DNR PWS: ' + str(PWS(class_list = class_list_DNR, cluster_list = cluster_list_DNR))\n",
    "print '========================================='\n",
    "print 'TRUMP CPS: ' + str(CPS(class_list = class_list_trump, cluster_list = cluster_list_trump))\n",
    "print 'DNR CPS: ' + str(CPS(class_list = class_list_DNR, cluster_list = cluster_list_DNR))"
   ]
  },
  {
   "cell_type": "markdown",
   "metadata": {},
   "source": [
    "<b>Мы можем визуально сравнивать качества кластеризации, глядя на то, как совпадают векторы кластеров. Индекс списка соответствует номеру документа, значние по этому индексу - кластеру.</b>"
   ]
  },
  {
   "cell_type": "code",
   "execution_count": 20,
   "metadata": {},
   "outputs": [
    {
     "name": "stdout",
     "output_type": "stream",
     "text": [
      "TRUMP: \n",
      "REAL:  [0, 0, 0, 0, 0, 2, 2, 0, 0, 1, 1, 0, 2, 1, 1, 0, 2, 1, 1, 0, 0, 1, 2, 1, 0, 1, 1, 0, 2, 2, 0, 0, 2, 0, 0, 0, 0, 2, 0, 0, 0, 1, 1, 1, 2, 1, 1, 0, 0, 0, 2, 2, 0, 1, 0, 2, 1, 0, 2, 1, 2, 0, 0, 0, 0, 0, 0, 0, 2, 2, 2, 0, 2, 2, 1, 1, 2, 2, 1, 0, 2, 2, 1, 1, 1, 1, 2, 2, 2, 2, 2, 2, 1, 1, 1, 2, 2, 2, 1, 2, 2, 2, 1, 2, 1, 2, 2, 1, 2, 2, 2, 2, 2, 1, 1, 2, 1, 1, 1, 2, 1, 1, 1, 1, 1, 1, 2, 2, 1, 1, 2, 1, 2, 1, 1, 2, 1, 2, 2, 2, 1, 1, 2, 2, 2, 1, 2, 2, 2, 2, 1, 1, 2, 1, 2, 2, 2, 2, 2, 2, 1, 1, 1, 2, 1, 2, 1, 1, 1, 2, 2, 1, 1, 1, 1, 1, 2, 1, 1, 1, 1, 2, 1, 1, 2, 1, 2, 1, 1, 1, 1, 1, 2, 1, 1, 2, 1, 2, 1, 2, 2, 2, 2, 1, 2, 1, 1, 1, 2, 1, 1, 2, 1, 2, 1, 1, 1, 2, 2, 1, 1]\n",
      "******************************\n",
      "KMEANS:  [0 1 1 1 1 2 1 0 1 2 0 0 0 0 1 0 1 1 1 1 1 0 1 1 1 1 0 1 1 1 1 1 2 1 1 0 0\n",
      " 1 1 1 1 0 1 1 2 1 1 0 1 1 1 1 1 1 1 1 1 1 1 1 1 1 1 1 2 1 1 1 1 1 2 1 2 1\n",
      " 1 1 1 1 1 1 1 1 1 1 1 1 1 1 1 1 1 1 1 1 1 1 1 2 1 1 1 1 1 1 1 1 1 1 1 1 1\n",
      " 1 1 1 1 1 1 1 1 1 1 1 1 1 1 1 1 2 1 0 1 1 1 1 1 1 1 1 2 1 0 1 1 2 1 1 1 1\n",
      " 1 1 0 1 1 1 1 1 1 1 1 1 1 1 1 1 1 1 1 1 1 1 1 1 1 1 1 1 1 1 1 1 1 1 1 1 1\n",
      " 1 1 1 1 1 1 1 1 1 1 1 1 1 1 1 1 1 2 1 1 1 0 1 1 1 1 1 1 1 1 1 1 2 1 1 1]\n",
      "-----------------------------------------\n",
      "-----------------------------------------\n",
      "-----------------------------------------\n",
      "DNR: \n",
      "REAL:  [1, 0, 0, 9, 1, 0, 0, 2, 2, 1, 2, 2, 1, 1, 1, 0, 2, 9, 9, 2, 2, 9, 0, 2, 2, 0, 2, 1, 2, 2, 1, 9, 1, 2, 0, 9, 2, 0, 2, 2, 0, 9, 2, 2, 1, 2, 2, 1, 2, 1, 0, 0, 1, 9, 1, 0, 2, 0, 2, 9, 1, 2, 0, 9, 0, 2, 0, 0, 9, 9, 1, 0, 2, 9, 9, 0, 2, 9, 2, 2, 2, 2, 1, 0, 1, 1, 0, 2, 2, 2, 2, 2, 2, 9, 0, 1, 0, 0, 1]\n",
      "******************************\n",
      "KMEANS:  [2 2 1 2 2 2 1 2 2 0 2 2 2 6 2 2 2 2 2 9 2 2 4 2 2 2 2 2 7 2 2 2 2 2 0 2 2\n",
      " 2 2 2 2 3 2 2 2 8 2 2 2 2 2 9 1 2 2 2 6 2 2 2 2 2 2 2 2 2 0 0 2 2 2 2 1 2\n",
      " 2 9 2 9 2 7 2 9 9 5 2 1 2 6 2 2 2 2 7 2 2 2 2 2 2]\n"
     ]
    }
   ],
   "source": [
    "print 'TRUMP: '\n",
    "print 'REAL: ', class_list_trump\n",
    "print \"******************************\"\n",
    "print 'KMEANS: ', cluster_list_trump\n",
    "print '-----------------------------------------'\n",
    "print '-----------------------------------------'\n",
    "print '-----------------------------------------'\n",
    "print 'DNR: '\n",
    "print 'REAL: ', class_list_DNR\n",
    "print \"******************************\"\n",
    "print 'KMEANS: ', cluster_list_DNR\n"
   ]
  },
  {
   "cell_type": "code",
   "execution_count": null,
   "metadata": {},
   "outputs": [],
   "source": []
  },
  {
   "cell_type": "code",
   "execution_count": null,
   "metadata": {},
   "outputs": [],
   "source": []
  },
  {
   "cell_type": "code",
   "execution_count": null,
   "metadata": {},
   "outputs": [],
   "source": []
  }
 ],
 "metadata": {
  "kernelspec": {
   "display_name": "Python 2",
   "language": "python",
   "name": "python2"
  },
  "language_info": {
   "codemirror_mode": {
    "name": "ipython",
    "version": 2
   },
   "file_extension": ".py",
   "mimetype": "text/x-python",
   "name": "python",
   "nbconvert_exporter": "python",
   "pygments_lexer": "ipython2",
   "version": "2.7.15rc1"
  }
 },
 "nbformat": 4,
 "nbformat_minor": 2
}
