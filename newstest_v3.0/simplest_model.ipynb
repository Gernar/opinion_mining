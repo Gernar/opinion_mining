{
 "cells": [
  {
   "cell_type": "code",
   "execution_count": 2,
   "metadata": {},
   "outputs": [
    {
     "data": {
      "text/plain": [
       "\"class_list_trump = PackToDocks('trump_labelled.txt', 'data_trump')\\n\\nclass_list_DNR = PackToDocks('lnr_dnr_labelled.txt', 'data_DNR')\\n\\nstop_words = set(stopwords.words('russian')).remove(u'\\xd0\\xbd\\xd0\\xb5')\\n\""
      ]
     },
     "execution_count": 2,
     "metadata": {},
     "output_type": "execute_result"
    }
   ],
   "source": [
    "from __future__ import division\n",
    "from parser import PackToDocks\n",
    "import codecs\n",
    "import os\n",
    "from wiki_ru_wordnet import WikiWordnet\n",
    "import pymorphy2\n",
    "from nltk.corpus import stopwords \n",
    "import nltk\n",
    "import xlrd\n",
    "from itertools import combinations\n",
    "\n",
    "'''class_list_trump = PackToDocks('trump_labelled.txt', 'data_trump')\n",
    "\n",
    "class_list_DNR = PackToDocks('lnr_dnr_labelled.txt', 'data_DNR')\n",
    "\n",
    "stop_words = set(stopwords.words('russian')).remove(u'не')\n",
    "'''"
   ]
  },
  {
   "cell_type": "markdown",
   "metadata": {},
   "source": [
    "# Это очень простая модель, предназначенная только лишь для сравнения"
   ]
  },
  {
   "cell_type": "markdown",
   "metadata": {},
   "source": [
    "Суть модели в том, что из документа извлекаются сентиментные слова, имеющие определенные веса. Сумма весов определит класс, в который попадет документ. Всего выделим 3 класса: положительный, отрицательный и нейтральный. Веса прилагательных будет в 1.5 раз больше, чем у остальных слов."
   ]
  },
  {
   "cell_type": "markdown",
   "metadata": {},
   "source": [
    "В данной модели не будут использоваться деревья зависимостей слов, в связи с высоким временем построения. Так же для увеличения времени и качества работы алгоритма текст будет предварительно очищаться от стоп-слов и знаков препинания."
   ]
  },
  {
   "cell_type": "code",
   "execution_count": 67,
   "metadata": {},
   "outputs": [],
   "source": [
    "def ClearTable(table):\n",
    "\tfor i in table:\n",
    "\t\tif i[0]==i[1]:\n",
    "\t\t\ttable[i] == False\n",
    "\t\telse:\n",
    "\t\t\ttable[i] == 0\n",
    "\n",
    "def Add(dic, value):\n",
    "\tif value in dic:\n",
    "\t\tdic[value] +=1\n",
    "\telse:\n",
    "\t\tdic[value] = 1\n",
    "\n",
    "def All(dic):\n",
    "\tfor i in dic:\n",
    "\t\tif i[0] == i[1] and dic[i] == False:\n",
    "\t\t\treturn False\n",
    "\treturn True\n",
    "\n",
    "def GetDict(cluster_list, class_list):\n",
    "\ts = set()\n",
    "\td = {}\n",
    "\tfor x in cluster_list:\n",
    "\t\ts.add(x)\n",
    "\tfor kek in s:\n",
    "\t\tself_d = {}\n",
    "\t\tfor i in s:\n",
    "\t\t\tself_d[i] = 0\n",
    "\t\tfor i in range(len(cluster_list)):\n",
    "\t\t\tif cluster_list[i] == kek:\n",
    "\t\t\t\tAdd(self_d, class_list[i])\n",
    "\t\td[kek] = dict(self_d)\n",
    "\treturn d\n",
    "def Swap(cluster_list, class_list, max_key):\n",
    "\tfor i in range(len(cluster_list)):\n",
    "\t\tif cluster_list[i] == max_key[0]:\n",
    "\t\t\tcluster_list[i] = max_key[1]\n",
    "\t\telif cluster_list[i] == max_key[1]:\n",
    "\t\t\tcluster_list[i] = max_key[0]\n",
    "def CPS(cluster_list, class_list):\n",
    "\ts = set()\n",
    "\tfor x in cluster_list:\n",
    "\t\ts.add(x)\n",
    "\ttable = {}\n",
    "\tfor i in combinations(list(s), 2):\n",
    "\t\ttable[i] = 0\n",
    "\tfor i in s:\n",
    "\t\ttable[(i, i)] = False\n",
    "\twhile True:\n",
    "\t\td = GetDict(cluster_list, class_list)\n",
    "\t\tfor line in table:\n",
    "\t\t\tif line[0] != line[1]:\n",
    "\t\t\t\ttable[line] = d[line[0]][line[1]] + d[line[1]][line[0]]\n",
    "\t\t\telse:\n",
    "\t\t\t\ttable[line] = d[line[0]][line[1]]\n",
    "\t\tmax_key = None\n",
    "\t\tfor line in table:\n",
    "\t\t\tif table[line] > table[(line[0], line[0])] + table[(line[1], line[1])]:\n",
    "\t\t\t\tif max_key == None:\n",
    "\t\t\t\t\tmax_key = line\n",
    "\t\t\t\telif table[max_key] < table[line]:\n",
    "\t\t\t\t\tmax_key = line\n",
    "\t\tif max_key == None:\n",
    "\t\t\tbreak\n",
    "\t\telse:\n",
    "\t\t\tSwap(cluster_list, class_list, max_key)\n",
    "\n",
    "\tcounter = 0\n",
    "\tfor i,x in enumerate(class_list):\n",
    "\t\tif x == cluster_list[i]:\n",
    "\t\t\tcounter += 1\n",
    "\treturn counter/len(class_list)\n",
    "\n",
    "def Score(word, wordnet, workbook):\n",
    "    worksheet = workbook.sheet_by_index(0)\n",
    "    score = 0\n",
    "    synsets = wordnet.get_synsets(word)\n",
    "    if bool(synsets):\n",
    "        synset = synsets[0]\n",
    "        synlist = [i.lemma() for i in synset.get_words()]\n",
    "    else:\n",
    "        synlist = [word]\n",
    "    counter = 0\n",
    "    for token in synlist:\n",
    "        flag = False\n",
    "        for i in range(worksheet.nrows):\n",
    "            if token == worksheet.cell(i, 0).value:\n",
    "                counter +=1\n",
    "                flag = True\n",
    "                score += int(worksheet.cell(i, 1).value)\n",
    "            elif flag:\n",
    "                break\n",
    "    if counter:\n",
    "        score /= counter\n",
    "    else:\n",
    "        score = 0\n",
    "    return score\n",
    "\n",
    "def Clustering(data_path):\n",
    "    file_list = [file for file in os.listdir(data_path) if os.path.isfile(data_path + '/' + file)]\n",
    "    file_list.sort(key = lambda x: int(x[2:-4]))\n",
    "    wordnet = WikiWordnet()\n",
    "    workbook = xlrd.open_workbook('full word_rating_after_coding.xlsx')\n",
    "    morph = pymorphy2.MorphAnalyzer()\n",
    "    clusters = [0 for i in range(len(file_list))]\n",
    "    for i, file in enumerate(file_list):\n",
    "        with codecs.open(data_path + '/' + file, 'r', 'utf-8') as f:\n",
    "            words = nltk.word_tokenize(f.read())\n",
    "            words = [word.lower() for word in words if word.isalpha()]\n",
    "            file_score = 0\n",
    "            for j,word in enumerate(words):\n",
    "                p = morph.parse(word)[0]\n",
    "                score = Score(word = p.normal_form, workbook = workbook, wordnet = wordnet)\n",
    "                if 'ADJF' in p.tag:\n",
    "                    score *= 2\n",
    "                if i != 0 and words[j-1] == u'не':\n",
    "                    score *= -1\n",
    "                file_score += score\n",
    "            \n",
    "            if file_score > 0.1:\n",
    "                clusters[i] = 2\n",
    "            elif file_score < -0.3:\n",
    "                clusters[i] = 1\n",
    "    return clusters\n",
    "\n",
    "\n",
    "def PWS(class_list, cluster_list):\n",
    "    PW = 0\n",
    "    counter = 0\n",
    "    for i, x in enumerate(class_list):\n",
    "        for j, y in enumerate(class_list):\n",
    "            if x == y:\n",
    "                counter += 1\n",
    "                PW += int(cluster_list[i] == cluster_list[j])\n",
    "\n",
    "    return (PW/counter)\n"
   ]
  },
  {
   "cell_type": "code",
   "execution_count": 68,
   "metadata": {},
   "outputs": [],
   "source": [
    "cluster_list_DNR = Clustering('data_DNR')\n",
    "cluster_list_trump = Clustering('data_trump')"
   ]
  },
  {
   "cell_type": "code",
   "execution_count": 69,
   "metadata": {},
   "outputs": [
    {
     "name": "stdout",
     "output_type": "stream",
     "text": [
      "TRUMP CPS:  0.466063348416\n",
      "DNR CPS:  0.393939393939\n",
      "TRUMP PWS:  0.497351897352\n",
      "DNR PWS:  0.892867373245\n",
      "[1, 0, 0, 0, 1, 0, 0, 2, 2, 1, 2, 2, 1, 1, 1, 0, 2, 0, 0, 2, 2, 0, 0, 2, 2, 0, 2, 1, 2, 2, 1, 0, 1, 2, 0, 0, 2, 0, 2, 2, 0, 0, 2, 2, 1, 2, 2, 1, 2, 1, 0, 0, 1, 0, 1, 0, 2, 0, 2, 0, 1, 2, 0, 0, 0, 2, 0, 0, 0, 0, 1, 0, 2, 0, 0, 0, 2, 0, 2, 2, 2, 2, 1, 0, 1, 1, 0, 2, 2, 2, 2, 2, 2, 0, 0, 1, 0, 0, 1]\n",
      "=======================\n",
      "[0, 0, 0, 0, 0, 0, 0, 0, 0, 0, 0, 0, 0, 0, 0, 0, 0, 2, 0, 0, 0, 0, 0, 0, 0, 0, 1, 0, 0, 0, 0, 0, 0, 0, 0, 0, 0, 0, 0, 0, 0, 0, 0, 0, 0, 0, 0, 0, 0, 0, 0, 0, 0, 1, 0, 0, 0, 0, 0, 2, 0, 0, 0, 0, 0, 0, 0, 0, 0, 0, 0, 0, 0, 0, 0, 0, 0, 0, 0, 0, 2, 0, 0, 0, 0, 0, 0, 0, 0, 0, 0, 0, 0, 0, 0, 0, 0, 0, 0]\n",
      "---------------------------------------------------------\n",
      "[0, 0, 0, 0, 0, 2, 2, 0, 0, 1, 1, 0, 2, 1, 1, 0, 2, 1, 1, 0, 0, 1, 2, 1, 0, 1, 1, 0, 2, 2, 0, 0, 2, 0, 0, 0, 0, 2, 0, 0, 0, 1, 1, 1, 2, 1, 1, 0, 0, 0, 2, 2, 0, 1, 0, 2, 1, 0, 2, 1, 2, 0, 0, 0, 0, 0, 0, 0, 2, 2, 2, 0, 2, 2, 1, 1, 2, 2, 1, 0, 2, 2, 1, 1, 1, 1, 2, 2, 2, 2, 2, 2, 1, 1, 1, 2, 2, 2, 1, 2, 2, 2, 1, 2, 1, 2, 2, 1, 2, 2, 2, 2, 2, 1, 1, 2, 1, 1, 1, 2, 1, 1, 1, 1, 1, 1, 2, 2, 1, 1, 2, 1, 2, 1, 1, 2, 1, 2, 2, 2, 1, 1, 2, 2, 2, 1, 2, 2, 2, 2, 1, 1, 2, 1, 2, 2, 2, 2, 2, 2, 1, 1, 1, 2, 1, 2, 1, 1, 1, 2, 2, 1, 1, 1, 1, 1, 2, 1, 1, 1, 1, 2, 1, 1, 2, 1, 2, 1, 1, 1, 1, 1, 2, 1, 1, 2, 1, 2, 1, 2, 2, 2, 2, 1, 2, 1, 1, 1, 2, 1, 1, 2, 1, 2, 1, 1, 1, 2, 2, 1, 1]\n",
      "=======================\n",
      "[1, 1, 1, 1, 1, 1, 2, 1, 2, 1, 1, 1, 1, 2, 2, 1, 2, 1, 1, 2, 1, 1, 1, 1, 1, 1, 0, 1, 1, 2, 2, 1, 2, 2, 2, 1, 1, 1, 1, 1, 1, 1, 1, 2, 2, 1, 1, 1, 1, 1, 2, 1, 1, 2, 2, 1, 1, 1, 2, 2, 2, 2, 0, 0, 1, 1, 1, 1, 2, 2, 1, 1, 1, 2, 1, 1, 2, 1, 0, 2, 1, 2, 1, 1, 1, 1, 2, 0, 1, 1, 1, 1, 0, 2, 2, 1, 2, 2, 2, 1, 1, 1, 1, 2, 1, 2, 1, 0, 1, 1, 1, 2, 1, 1, 1, 1, 0, 2, 2, 1, 1, 1, 1, 2, 2, 2, 1, 2, 2, 0, 1, 1, 2, 1, 1, 1, 1, 1, 2, 2, 2, 1, 1, 1, 1, 1, 2, 2, 2, 2, 2, 1, 1, 1, 1, 1, 2, 1, 2, 2, 1, 1, 1, 1, 1, 2, 1, 1, 1, 2, 2, 2, 1, 1, 1, 2, 1, 1, 0, 1, 1, 1, 1, 1, 2, 2, 2, 1, 1, 2, 1, 1, 1, 1, 1, 1, 1, 2, 1, 1, 1, 1, 2, 1, 2, 2, 2, 1, 0, 2, 2, 2, 2, 1, 1, 2, 1, 2, 1, 2, 1]\n"
     ]
    }
   ],
   "source": [
    "for i in range(len(class_list_DNR)):\n",
    "    if class_list_DNR[i] == 9:\n",
    "        class_list_DNR[i] = 0\n",
    "\n",
    "print 'TRUMP CPS: ', CPS(class_list = class_list_trump, cluster_list = cluster_list_trump)\n",
    "print 'DNR CPS: ', CPS(class_list = class_list_DNR, cluster_list = cluster_list_DNR)\n",
    "\n",
    "print 'TRUMP PWS: ', PWS(class_list = class_list_trump, cluster_list = cluster_list_trump)\n",
    "print 'DNR PWS: ', PWS(class_list = class_list_DNR, cluster_list = cluster_list_DNR)\n",
    "\n",
    "print class_list_DNR\n",
    "print '======================='\n",
    "print cluster_list_DNR\n",
    "print '---------------------------------------------------------'\n",
    "print class_list_trump\n",
    "print '======================='\n",
    "print cluster_list_trump"
   ]
  },
  {
   "cell_type": "code",
   "execution_count": 6,
   "metadata": {},
   "outputs": [
    {
     "name": "stdout",
     "output_type": "stream",
     "text": [
      "стать\n"
     ]
    }
   ],
   "source": [
    "morph = pymorphy2.MorphAnalyzer()\n",
    "p = morph.parse(u'стали')[0]\n",
    "print p.normal_form"
   ]
  },
  {
   "cell_type": "code",
   "execution_count": null,
   "metadata": {},
   "outputs": [],
   "source": []
  },
  {
   "cell_type": "code",
   "execution_count": null,
   "metadata": {},
   "outputs": [],
   "source": []
  }
 ],
 "metadata": {
  "kernelspec": {
   "display_name": "Python 2",
   "language": "python",
   "name": "python2"
  },
  "language_info": {
   "codemirror_mode": {
    "name": "ipython",
    "version": 2
   },
   "file_extension": ".py",
   "mimetype": "text/x-python",
   "name": "python",
   "nbconvert_exporter": "python",
   "pygments_lexer": "ipython2",
   "version": "2.7.15rc1"
  }
 },
 "nbformat": 4,
 "nbformat_minor": 2
}
