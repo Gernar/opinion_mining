{
 "cells": [
  {
   "cell_type": "markdown",
   "metadata": {},
   "source": [
    "# Готовим данные"
   ]
  },
  {
   "cell_type": "code",
   "execution_count": 176,
   "metadata": {},
   "outputs": [],
   "source": [
    "from __future__ import division\n",
    "from parser import PackToDocks\n",
    "from udpipe_model import Model\n",
    "import codecs \n",
    "import os\n",
    "from wiki_ru_wordnet import WikiWordnet\n",
    "import xlrd\n",
    "import glob\n",
    "from sklearn.cluster import KMeans\n",
    "import artm\n",
    "import numpy as np\n",
    "from itertools import combinations\n",
    "class_list_trump = PackToDocks('trump_labelled.txt', 'data_trump')\n",
    "\n",
    "class_list_DNR = PackToDocks('lnr_dnr_labelled.txt', 'data_DNR')\n"
   ]
  },
  {
   "cell_type": "markdown",
   "metadata": {},
   "source": [
    "<b>Расскажу о том как работает метрика качества CPS():</b>\n",
    "    На вход функции принимает два массива - массив \"настоящих\" кластеров и массив \"наших\" кластеров (тех, что даст нам kmeans). Далее алгоритм выбирает такую нумерацию кластеров в массиве \"наших\" кластеров, при которой количество совпадений кластеров между массивами будет наибольшим. Другими словами, подбирается наиболее оптимальная нумерация кластеров. \n",
    "    Далее, алгоритм считает количество совпадений кластеров в \"настоящем\" и \"нашем\" массиве класте и делит его на длину массива кластеров (количество документов). \n",
    "    Метрика принимает значния от 0 до 1, где 0 соответствует нулю совпадений кластеров (в силу особенности алгоритма, ноль никогда не может быть получен), а 1 - идеальной кластеризации. "
   ]
  },
  {
   "cell_type": "code",
   "execution_count": 177,
   "metadata": {},
   "outputs": [],
   "source": [
    "def PWS(class_list, cluster_list):\n",
    "    PW = 0\n",
    "    counter = 0\n",
    "    for i, x in enumerate(class_list):\n",
    "        for j, y in enumerate(class_list):\n",
    "            if x == y:\n",
    "                counter += 1\n",
    "                PW += int(cluster_list[i] == cluster_list[j])\n",
    "\n",
    "    return (PW/counter)\n",
    "\n",
    "def Add(dictionary, word):\n",
    "    if word in dictionary:\n",
    "        dictionary[word] += 1\n",
    "    else:\n",
    "        dictionary[word] = 1\n",
    "        \n",
    "def ClearTable(table):\n",
    "\tfor i in table:\n",
    "\t\tif i[0]==i[1]:\n",
    "\t\t\ttable[i] == False\n",
    "\t\telse:\n",
    "\t\t\ttable[i] == 0\n",
    "\n",
    "def Add(dic, value):\n",
    "\tif value in dic:\n",
    "\t\tdic[value] +=1\n",
    "\telse:\n",
    "\t\tdic[value] = 1\n",
    "\n",
    "def All(dic):\n",
    "\tfor i in dic:\n",
    "\t\tif i[0] == i[1] and dic[i] == False:\n",
    "\t\t\treturn False\n",
    "\treturn True\n",
    "\n",
    "def GetDict(cluster_list, class_list):\n",
    "\ts = set()\n",
    "\td = {}\n",
    "\tfor x in cluster_list:\n",
    "\t\ts.add(x)\n",
    "\tfor kek in s:\n",
    "\t\tself_d = {}\n",
    "\t\tfor i in s:\n",
    "\t\t\tself_d[i] = 0\n",
    "\t\tfor i in range(len(cluster_list)):\n",
    "\t\t\tif cluster_list[i] == kek:\n",
    "\t\t\t\tAdd(self_d, class_list[i])\n",
    "\t\td[kek] = dict(self_d)\n",
    "\treturn d\n",
    "def Swap(cluster_list, class_list, max_key):\n",
    "\tfor i in range(len(cluster_list)):\n",
    "\t\tif cluster_list[i] == max_key[0]:\n",
    "\t\t\tcluster_list[i] = max_key[1]\n",
    "\t\telif cluster_list[i] == max_key[1]:\n",
    "\t\t\tcluster_list[i] = max_key[0]\n",
    "def CPS(cluster_list, class_list):\n",
    "\ts = set()\n",
    "\tfor x in cluster_list:\n",
    "\t\ts.add(x)\n",
    "\ttable = {}\n",
    "\tfor i in combinations(list(s), 2):\n",
    "\t\ttable[i] = 0\n",
    "\tfor i in s:\n",
    "\t\ttable[(i, i)] = False\n",
    "\twhile True:\n",
    "\t\td = GetDict(cluster_list, class_list)\n",
    "\t\tfor line in table:\n",
    "\t\t\tif line[0] != line[1]:\n",
    "\t\t\t\ttable[line] = d[line[0]][line[1]] + d[line[1]][line[0]]\n",
    "\t\t\telse:\n",
    "\t\t\t\ttable[line] = d[line[0]][line[1]]\n",
    "\t\tmax_key = None\n",
    "\t\tfor line in table:\n",
    "\t\t\tif table[line] > table[(line[0], line[0])] + table[(line[1], line[1])]:\n",
    "\t\t\t\tif max_key == None:\n",
    "\t\t\t\t\tmax_key = line\n",
    "\t\t\t\telif table[max_key] < table[line]:\n",
    "\t\t\t\t\tmax_key = line\n",
    "\t\tif max_key == None:\n",
    "\t\t\tbreak\n",
    "\t\telse:\n",
    "\t\t\tSwap(cluster_list, class_list, max_key)\n",
    "\n",
    "\tcounter = 0\n",
    "\tfor i,x in enumerate(class_list):\n",
    "\t\tif x == cluster_list[i]:\n",
    "\t\t\tcounter += 1\n",
    "\treturn counter/len(class_list)\n",
    "\n",
    "print CPS([1,1,1,0,0], [0,0,0,1,1])"
   ]
  },
  {
   "cell_type": "code",
   "execution_count": 89,
   "metadata": {},
   "outputs": [
    {
     "name": "stdout",
     "output_type": "stream",
     "text": [
      "SUCCESS\n"
     ]
    }
   ],
   "source": [
    "model = Model('fi_ud-rus.model')\n",
    "\n",
    "file_list = [file for file in os.listdir('data_DNR') if os.path.isfile('data_DNR' + '/' + file)]\n",
    "file_list.sort(key = lambda x: int(x[2:-4]))\n",
    "with codecs.open('vw.DNR.txt', 'w', 'utf-8') as f:\n",
    "    for i, file in enumerate(file_list):\n",
    "        sentences = model.tokenize(codecs.open('data_DNR/' + file, 'r', 'utf-8').read())\n",
    "        for s in sentences:\n",
    "            model.tag(s)\n",
    "            model.parse(s)\n",
    "        conllu = model.write(sentences, \"conllu\")\n",
    "        \n",
    "        flag = False\n",
    "        deps = []\n",
    "        dep = []\n",
    "        for line in conllu.split('\\n'):\n",
    "            #print line\n",
    "            if len(line) > 1 and line[0] == '1':\n",
    "                flag = True\n",
    "            elif len(line) == 0:\n",
    "                flag = False\n",
    "                if dep != []:\n",
    "                    deps.append(dep)\n",
    "                    dep = []\n",
    "            if flag:\n",
    "                dep.append(line.split('\\t'))\n",
    "                \n",
    "        subjects = {}\n",
    "        objects = {}\n",
    "        for dep in deps:\n",
    "            adjects = {}\n",
    "            verbs = {}\n",
    "            appos = {}\n",
    "            adjects = {}\n",
    "            for line in dep:\n",
    "                if line[3] == 'VERB':\n",
    "                    verbs[line[0]] = ['0', line[2], '0']\n",
    "                elif line[3] == 'ADJ':\n",
    "                    if len(dep[int(line[6])-1]) > 5 and dep[int(line[6])-1][3] == 'NOUN':\n",
    "                        adjects[line[0]] = [dep[int(line[6])-1][2], '0', line[2]]\n",
    "            for line in dep:\n",
    "                if len(line) > 6 and line[7] == 'nsubj':\n",
    "                    if line[6] in verbs:\n",
    "                        verbs[line[6]][0] = line[2]\n",
    "                elif len(line) > 6 and (line[7] == 'obj' or line[7] == 'iobj'):\n",
    "                    if line[6] in verbs:\n",
    "                        verbs[line[6]][2] = line[2]\n",
    "                elif len(line) > 6 and line[7] == 'appos':\n",
    "                    appos[line[0]] = [line[2], '0', dep[int(line[6])-1][2]]\n",
    "            for key in verbs:\n",
    "                if verbs[key][0] != '0':\n",
    "                    Add(objects, verbs[key][0])\n",
    "                if verbs[key][2] != '0':\n",
    "                    Add(subjects, verbs[key][2])\n",
    "            for key in appos:\n",
    "                if appos[key][0] != '0':\n",
    "                    Add(objects, appos[key][0])\n",
    "                if appos[key][2] != '0':\n",
    "                    Add(subjects, appos[key][2])\n",
    "            for key in adjects:\n",
    "                if adjects[key][0] != '0':\n",
    "                    Add(objects, adjects[key][0])\n",
    "                if adjects[key][2] != '0':\n",
    "                    Add(subjects, adjects[key][2])\n",
    "                    \n",
    "        subj = [w + ':' + str(subjects[w]) for w in subjects]\n",
    "        obj = [w + ':' + str(objects[w]) for w in objects]\n",
    "        string = u'{0} |@subjects {1} |@objects {2}'.format(str(i), u' '.join(subj), u' '.join(obj))\n",
    "        f.write(string + '\\n')\n",
    "        \n",
    "print 'SUCCESS'"
   ]
  },
  {
   "cell_type": "markdown",
   "metadata": {},
   "source": [
    "# Строим тематическую модель"
   ]
  },
  {
   "cell_type": "code",
   "execution_count": 178,
   "metadata": {},
   "outputs": [],
   "source": [
    "def print_measures(model_artm):\n",
    "    print 'Sparsity Phi Subj: {} (ARTM)'.format(\n",
    "        model_artm.score_tracker['SparsityPhiSubjScore'].last_value)\n",
    "\n",
    "    print 'Sparsity Phi Obj: {} (ARTM)'.format(\n",
    "        model_artm.score_tracker['SparsityPhiObjScore'].last_value)\n",
    "\n",
    "    print 'Sparsity Theta: {} (ARTM)'.format(\n",
    "        model_artm.score_tracker['SparsityThetaScore'].last_value)\n",
    "\n",
    "    print 'Kernel Subj contrast: {} (ARTM)'.format(\n",
    "        model_artm.score_tracker['TopicKernelSubjScore'].last_average_contrast)\n",
    "\n",
    "    print 'Kernel Subj purity: {} (ARTM)'.format(\n",
    "        model_artm.score_tracker['TopicKernelSubjScore'].last_average_purity)\n",
    "\n",
    "    print 'Kernel Obj contrast: {} (ARTM)'.format(\n",
    "        model_artm.score_tracker['TopicKernelObjScore'].last_average_contrast)\n",
    "\n",
    "    print 'Kernel Obj purity: {} (ARTM)'.format(\n",
    "        model_artm.score_tracker['TopicKernelObjScore'].last_average_purity)\n",
    "\n",
    "    print 'Perplexity: {} (ARTM)'.format(\n",
    "        model_artm.score_tracker['PerplexityScore'].last_value)\n",
    "\n",
    "    plt.plot(xrange(model_artm.num_phi_updates),\n",
    "             model_artm.score_tracker['PerplexityScore'].value, 'r--', linewidth=2)\n",
    "    plt.xlabel('Iterations count')\n",
    "    plt.ylabel('ARTM perp. (red)')\n",
    "    plt.grid(True)\n",
    "    plt.show()\n",
    "    "
   ]
  },
  {
   "cell_type": "markdown",
   "metadata": {},
   "source": [
    "<b>Обозначим переменные величины, от которых будет зависить наша модель</b>"
   ]
  },
  {
   "cell_type": "code",
   "execution_count": 348,
   "metadata": {},
   "outputs": [],
   "source": [
    "N_TOPIC = 5\n",
    "N_FONT_TOPICS = 2\n",
    "MIN_TF = 2\n",
    "SUBJ_WEIGHT = 0.75\n",
    "OBJ_WEIGHT = 1\n",
    "#[4, 2, 3, 1, 1]\n",
    "SPARSE_PHI_MAIN = -4\n",
    "SPARSE_THETA_MAIN = -4\n",
    "SPARSE_PHI_FONT = 2\n",
    "SPARSE_THETA_FONT = 2\n",
    "DECORR_PHI = 1\n",
    "#[-1, -1, 1, 1, 0]\n",
    "\n",
    "NUM_COLLECTION_PASSES = 30\n",
    "\n",
    "N_CLUSTERS_TRUMP = 3\n",
    "\n",
    "N_CLUSTERS_DNR = 10"
   ]
  },
  {
   "cell_type": "markdown",
   "metadata": {},
   "source": [
    "<b>Создаем пакеты и словарь</b>"
   ]
  },
  {
   "cell_type": "code",
   "execution_count": 349,
   "metadata": {},
   "outputs": [],
   "source": [
    "batch_vectorizer_trump = None\n",
    "if len(glob.glob(os.path.join('TM/my_batches_trump', '*.batch'))) < 1:\n",
    "    batch_vectorizer_trump = artm.BatchVectorizer(data_path='TM/vw.trump.txt', data_format='vowpal_wabbit', target_folder='TM/my_batches_trump')\n",
    "else:\n",
    "    batch_vectorizer_trump = artm.BatchVectorizer(data_path='TM/my_batches_trump', data_format='batches')\n",
    "    \n",
    "#######################################\n",
    "\n",
    "batch_vectorizer_DNR = None\n",
    "if len(glob.glob(os.path.join('TM/my_batches_DNR', '*.batch'))) < 1:\n",
    "    batch_vectorizer_DNR = artm.BatchVectorizer(data_path='TM/vw.DNR.txt', data_format='vowpal_wabbit', target_folder='TM/my_batches_DNR')\n",
    "else:\n",
    "    batch_vectorizer_DNR = artm.BatchVectorizer(data_path='TM/my_batches_DNR', data_format='batches')\n"
   ]
  },
  {
   "cell_type": "code",
   "execution_count": 350,
   "metadata": {},
   "outputs": [
    {
     "data": {
      "text/plain": [
       "artm.Dictionary(name=df3b51cb-1424-47dd-94d5-f0a9634561a8, num_entries=1127)"
      ]
     },
     "execution_count": 350,
     "metadata": {},
     "output_type": "execute_result"
    }
   ],
   "source": [
    "dictionary_trump = artm.Dictionary()\n",
    "#dictionary_trump.gather(data_path='TM/my_batches_trump')\n",
    "#dictionary_trump.save(dictionary_path='TM/my_batches_trump/my_dictionary_trump')\n",
    "dictionary_trump.load(dictionary_path='TM/my_batches_trump/my_dictionary_trump.dict')\n",
    "dictionary_trump.filter(min_tf = MIN_TF)\n",
    "\n",
    "###################################\n",
    "\n",
    "dictionary_DNR = artm.Dictionary()\n",
    "#dictionary_DNR.gather(data_path='TM/my_batches_DNR')\n",
    "#dictionary_DNR.save(dictionary_path='TM/my_batches_DNR/my_dictionary_DNR')\n",
    "dictionary_DNR.load(dictionary_path='TM/my_batches_DNR/my_dictionary_DNR.dict')\n",
    "dictionary_DNR.filter(min_tf = MIN_TF)"
   ]
  },
  {
   "cell_type": "markdown",
   "metadata": {},
   "source": [
    "<b>Инициализируем модель и добавляем регуляризаторы</b>"
   ]
  },
  {
   "cell_type": "code",
   "execution_count": 351,
   "metadata": {},
   "outputs": [],
   "source": [
    "topic_names = ['topic_{}'.format(i) for i in xrange(N_TOPIC)]\n",
    "\n",
    "model_trump = artm.ARTM(num_topics=N_TOPIC, dictionary=dictionary_trump, cache_theta = True, class_ids={'@subjects': SUBJ_WEIGHT, '@objects': OBJ_WEIGHT})\n",
    "\n",
    "model_trump.scores.add(artm.PerplexityScore(name = 'PerplexityScore'))\n",
    "model_trump.scores.add(artm.SparsityPhiScore(name='SparsityPhiSubjScore', class_id = '@subjects'))\n",
    "model_trump.scores.add(artm.SparsityPhiScore(name='SparsityPhiObjScore', class_id = '@objects'))\n",
    "model_trump.scores.add(artm.SparsityThetaScore(name='SparsityThetaScore'))\n",
    "model_trump.scores.add(artm.TopicKernelScore(name='TopicKernelSubjScore', class_id = '@subjects'))\n",
    "model_trump.scores.add(artm.TopicKernelScore(name='TopicKernelObjScore', class_id = '@objects'))\n",
    "\n",
    "##############################################\n",
    "\n",
    "topic_names = ['topic_{}'.format(i) for i in xrange(N_TOPIC)]\n",
    "\n",
    "model_DNR = artm.ARTM(num_topics=N_TOPIC, dictionary=dictionary_DNR, cache_theta = True, class_ids={'@subjects': SUBJ_WEIGHT, '@objects': OBJ_WEIGHT})\n",
    "\n",
    "model_DNR.scores.add(artm.PerplexityScore(name = 'PerplexityScore'))\n",
    "model_DNR.scores.add(artm.SparsityPhiScore(name='SparsityPhiSubjScore', class_id = '@subjects'))\n",
    "model_DNR.scores.add(artm.SparsityPhiScore(name='SparsityPhiObjScore', class_id = '@objects'))\n",
    "model_DNR.scores.add(artm.SparsityThetaScore(name='SparsityThetaScore'))\n",
    "model_DNR.scores.add(artm.TopicKernelScore(name='TopicKernelSubjScore', class_id = '@subjects'))\n",
    "model_DNR.scores.add(artm.TopicKernelScore(name='TopicKernelObjScore', class_id = '@objects'))"
   ]
  },
  {
   "cell_type": "code",
   "execution_count": 352,
   "metadata": {},
   "outputs": [],
   "source": [
    "model_trump.regularizers.add(artm.SmoothSparsePhiRegularizer(name='sparse_phi_main_regularizer', topic_names = ['topic_{}'.format(i) for i in xrange(N_TOPIC - N_FONT_TOPICS)]))\n",
    "model_trump.regularizers.add(artm.DecorrelatorPhiRegularizer(name='decorrelator_phi_regularizer'))\n",
    "model_trump.regularizers.add(artm.SmoothSparsePhiRegularizer(name='sparse_phi_font_regularizer', topic_names = ['topic_{}'.format(i) for i in xrange(N_TOPIC - N_FONT_TOPICS, N_TOPIC)]))\n",
    "\n",
    "model_trump.regularizers.add(artm.SmoothSparseThetaRegularizer(name='sparse_theta_font_regularizer', topic_names = ['topic_{}'.format(i) for i in xrange(N_TOPIC - N_FONT_TOPICS, N_TOPIC)]))\n",
    "model_trump.regularizers.add(artm.SmoothSparseThetaRegularizer(name='sparse_theta_main_regularizer', topic_names = ['topic_{}'.format(i) for i in xrange(N_TOPIC - N_FONT_TOPICS)]))\n",
    "\n",
    "##################################\n",
    "\n",
    "model_DNR.regularizers.add(artm.SmoothSparsePhiRegularizer(name='sparse_phi_main_regularizer', topic_names = ['topic_{}'.format(i) for i in xrange(N_TOPIC - N_FONT_TOPICS)]))\n",
    "model_DNR.regularizers.add(artm.DecorrelatorPhiRegularizer(name='decorrelator_phi_regularizer'))\n",
    "model_DNR.regularizers.add(artm.SmoothSparsePhiRegularizer(name='sparse_phi_font_regularizer', topic_names = ['topic_{}'.format(i) for i in xrange(N_TOPIC - N_FONT_TOPICS, N_TOPIC)]))\n",
    "\n",
    "model_DNR.regularizers.add(artm.SmoothSparseThetaRegularizer(name='sparse_theta_font_regularizer', topic_names = ['topic_{}'.format(i) for i in xrange(N_TOPIC - N_FONT_TOPICS, N_TOPIC)]))\n",
    "model_DNR.regularizers.add(artm.SmoothSparseThetaRegularizer(name='sparse_theta_main_regularizer', topic_names = ['topic_{}'.format(i) for i in xrange(N_TOPIC - N_FONT_TOPICS)]))"
   ]
  },
  {
   "cell_type": "code",
   "execution_count": 353,
   "metadata": {},
   "outputs": [],
   "source": [
    "model_trump.regularizers['sparse_phi_main_regularizer'].tau = SPARSE_PHI_MAIN\n",
    "model_trump.regularizers['sparse_theta_main_regularizer'].tau = SPARSE_THETA_MAIN\n",
    "model_trump.regularizers['sparse_phi_font_regularizer'].tau = SPARSE_PHI_FONT\n",
    "model_trump.regularizers['sparse_theta_font_regularizer'].tau = SPARSE_THETA_FONT\n",
    "model_trump.regularizers['decorrelator_phi_regularizer'].tau = DECORR_PHI\n",
    "\n",
    "############################\n",
    "\n",
    "model_DNR.regularizers['sparse_phi_main_regularizer'].tau = SPARSE_PHI_MAIN\n",
    "model_DNR.regularizers['sparse_theta_main_regularizer'].tau = SPARSE_THETA_MAIN\n",
    "model_DNR.regularizers['sparse_phi_font_regularizer'].tau = SPARSE_PHI_FONT\n",
    "model_DNR.regularizers['sparse_theta_font_regularizer'].tau = SPARSE_THETA_FONT\n",
    "model_DNR.regularizers['decorrelator_phi_regularizer'].tau = DECORR_PHI\n"
   ]
  },
  {
   "cell_type": "code",
   "execution_count": 354,
   "metadata": {},
   "outputs": [],
   "source": [
    "model_trump.fit_offline(batch_vectorizer=batch_vectorizer_trump, num_collection_passes=NUM_COLLECTION_PASSES)\n",
    "\n",
    "##########################\n",
    "\n",
    "model_DNR.fit_offline(batch_vectorizer=batch_vectorizer_DNR, num_collection_passes=NUM_COLLECTION_PASSES)"
   ]
  },
  {
   "cell_type": "markdown",
   "metadata": {},
   "source": [
    "<b>Извлекаем вектора-признаки наших документов. Для этого мы берем только предметные темы, которые мы разреживали</b>"
   ]
  },
  {
   "cell_type": "code",
   "execution_count": 355,
   "metadata": {},
   "outputs": [],
   "source": [
    "theta_trump = model_trump.get_theta()\n",
    "lines_trump = np.array([np.array(theta_trump[i])[:N_TOPIC - N_FONT_TOPICS] for i in list(theta_trump)])\n",
    "\n",
    "###########################\n",
    "\n",
    "theta_DNR = model_DNR.get_theta()\n",
    "lines_DNR = np.array([np.array(theta_DNR[i])[:N_TOPIC - N_FONT_TOPICS] for i in list(theta_DNR)])"
   ]
  },
  {
   "cell_type": "markdown",
   "metadata": {},
   "source": [
    "<b>Ради любопытства можно посмтреть на наши матрицы</b>"
   ]
  },
  {
   "cell_type": "code",
   "execution_count": 356,
   "metadata": {},
   "outputs": [
    {
     "name": "stdout",
     "output_type": "stream",
     "text": [
      "              0         1         2         3         4         5    6    \\\n",
      "topic_0  0.000000  0.000000  0.000000  0.000000  0.000000  0.000000  0.2   \n",
      "topic_1  0.000000  0.000000  0.000000  0.000000  0.000000  0.000000  0.2   \n",
      "topic_2  0.000000  0.000000  0.000000  0.000000  0.000000  0.000000  0.2   \n",
      "topic_3  0.115074  0.387358  0.387358  0.461131  0.461131  0.114864  0.2   \n",
      "topic_4  0.884926  0.612642  0.612642  0.538869  0.538869  0.885136  0.2   \n",
      "\n",
      "              7         8         9    ...  211  212  213  214  215  216  217  \\\n",
      "topic_0  0.000000  0.000000  0.000000  ...  0.2  0.2  0.2  0.2  0.2  0.2  0.2   \n",
      "topic_1  0.000000  0.000000  0.000000  ...  0.2  0.2  0.2  0.2  0.2  0.2  0.2   \n",
      "topic_2  0.000000  0.000000  0.000000  ...  0.2  0.2  0.2  0.2  0.2  0.2  0.2   \n",
      "topic_3  0.087259  0.221294  0.156372  ...  0.2  0.2  0.2  0.2  0.2  0.2  0.2   \n",
      "topic_4  0.912741  0.778706  0.843628  ...  0.2  0.2  0.2  0.2  0.2  0.2  0.2   \n",
      "\n",
      "         218  219  220  \n",
      "topic_0  0.2  0.2  0.2  \n",
      "topic_1  0.2  0.2  0.2  \n",
      "topic_2  0.2  0.2  0.2  \n",
      "topic_3  0.2  0.2  0.2  \n",
      "topic_4  0.2  0.2  0.2  \n",
      "\n",
      "[5 rows x 221 columns]\n",
      "*******************\n",
      "               0         1         2         3        4         5         6   \\\n",
      "topic_0  0.000000  0.000000  0.000000  0.000000  0.00000  0.000000  0.000000   \n",
      "topic_1  0.000000  0.000000  0.000000  0.000000  0.00000  0.000000  0.000000   \n",
      "topic_2  0.000000  0.000000  0.000000  0.000000  0.00000  0.084478  0.000000   \n",
      "topic_3  0.165519  0.082023  0.914147  0.843276  0.13471  0.302652  0.921549   \n",
      "topic_4  0.834481  0.917977  0.085853  0.156724  0.86529  0.612870  0.078451   \n",
      "\n",
      "               7         8         9   ...        89        90       91  \\\n",
      "topic_0  0.000000  0.000000  0.000000  ...  0.000000  0.000000  0.00000   \n",
      "topic_1  0.000000  0.000000  0.000000  ...  0.000000  0.000000  0.00000   \n",
      "topic_2  0.000000  0.000000  0.015705  ...  0.000000  0.000000  0.00000   \n",
      "topic_3  0.848313  0.147337  0.045379  ...  0.780063  0.102998  0.85018   \n",
      "topic_4  0.151687  0.852663  0.938917  ...  0.219937  0.897002  0.14982   \n",
      "\n",
      "               92        93        94        95        96        97        98  \n",
      "topic_0  0.000000  0.000000  0.000000  0.000000  0.000000  0.000000  0.000000  \n",
      "topic_1  0.000000  0.034354  0.000000  0.000000  0.000000  0.000000  0.000000  \n",
      "topic_2  0.000000  0.000000  0.000000  0.000000  0.000000  0.205360  0.000000  \n",
      "topic_3  0.908383  0.023808  0.085355  0.085259  0.094654  0.227499  0.449927  \n",
      "topic_4  0.091617  0.941838  0.914645  0.914741  0.905346  0.567141  0.550073  \n",
      "\n",
      "[5 rows x 99 columns]\n"
     ]
    }
   ],
   "source": [
    "print theta_trump\n",
    "print '*******************'\n",
    "print theta_DNR"
   ]
  },
  {
   "cell_type": "markdown",
   "metadata": {},
   "source": [
    "<b>Дальше небольшой отчет по основным счетчикам</b>"
   ]
  },
  {
   "cell_type": "code",
   "execution_count": 1,
   "metadata": {},
   "outputs": [
    {
     "name": "stdout",
     "output_type": "stream",
     "text": [
      "TRUMP: \n",
      "perplexity: "
     ]
    },
    {
     "ename": "NameError",
     "evalue": "name 'model_trump' is not defined",
     "output_type": "error",
     "traceback": [
      "\u001b[0;31m---------------------------------------------------------------------------\u001b[0m",
      "\u001b[0;31mNameError\u001b[0m                                 Traceback (most recent call last)",
      "\u001b[0;32m<ipython-input-1-ce16fbe8f301>\u001b[0m in \u001b[0;36m<module>\u001b[0;34m()\u001b[0m\n\u001b[1;32m      1\u001b[0m \u001b[0;32mprint\u001b[0m \u001b[0;34m'TRUMP: '\u001b[0m\u001b[0;34m\u001b[0m\u001b[0m\n\u001b[0;32m----> 2\u001b[0;31m \u001b[0;32mprint\u001b[0m \u001b[0;34m'perplexity: '\u001b[0m\u001b[0;34m,\u001b[0m \u001b[0mmodel_trump\u001b[0m\u001b[0;34m.\u001b[0m\u001b[0mscore_tracker\u001b[0m\u001b[0;34m[\u001b[0m\u001b[0;34m'PerplexityScore'\u001b[0m\u001b[0;34m]\u001b[0m\u001b[0;34m.\u001b[0m\u001b[0mlast_value\u001b[0m\u001b[0;34m\u001b[0m\u001b[0m\n\u001b[0m\u001b[1;32m      3\u001b[0m \u001b[0;32mprint\u001b[0m \u001b[0;34m'phi subj sparsity: '\u001b[0m\u001b[0;34m,\u001b[0m \u001b[0mmodel_trump\u001b[0m\u001b[0;34m.\u001b[0m\u001b[0mscore_tracker\u001b[0m\u001b[0;34m[\u001b[0m\u001b[0;34m'SparsityPhiSubjScore'\u001b[0m\u001b[0;34m]\u001b[0m\u001b[0;34m.\u001b[0m\u001b[0mlast_value\u001b[0m\u001b[0;34m\u001b[0m\u001b[0m\n\u001b[1;32m      4\u001b[0m \u001b[0;32mprint\u001b[0m \u001b[0;34m'phi obj sparsity: '\u001b[0m\u001b[0;34m,\u001b[0m\u001b[0mmodel_trump\u001b[0m\u001b[0;34m.\u001b[0m\u001b[0mscore_tracker\u001b[0m\u001b[0;34m[\u001b[0m\u001b[0;34m'SparsityPhiObjScore'\u001b[0m\u001b[0;34m]\u001b[0m\u001b[0;34m.\u001b[0m\u001b[0mlast_value\u001b[0m\u001b[0;34m\u001b[0m\u001b[0m\n\u001b[1;32m      5\u001b[0m \u001b[0;32mprint\u001b[0m \u001b[0;34m'theta sparsity: '\u001b[0m\u001b[0;34m,\u001b[0m\u001b[0mmodel_trump\u001b[0m\u001b[0;34m.\u001b[0m\u001b[0mscore_tracker\u001b[0m\u001b[0;34m[\u001b[0m\u001b[0;34m'SparsityThetaScore'\u001b[0m\u001b[0;34m]\u001b[0m\u001b[0;34m.\u001b[0m\u001b[0mlast_value\u001b[0m\u001b[0;34m\u001b[0m\u001b[0m\n",
      "\u001b[0;31mNameError\u001b[0m: name 'model_trump' is not defined"
     ]
    }
   ],
   "source": [
    "print 'TRUMP: '\n",
    "print 'perplexity: ', model_trump.score_tracker['PerplexityScore'].last_value\n",
    "print 'phi subj sparsity: ', model_trump.score_tracker['SparsityPhiSubjScore'].last_value\n",
    "print 'phi obj sparsity: ',model_trump.score_tracker['SparsityPhiObjScore'].last_value\n",
    "print 'theta sparsity: ',model_trump.score_tracker['SparsityThetaScore'].last_value\n",
    "#print model_trump.score_tracker['TopicKernelPosScore'].last_value\n",
    "#print model_trump.score_tracker['TopicKernelNegScore'].last_value\n",
    "print '-----------------------------'\n",
    "#########################################\n",
    "print 'DNR: '\n",
    "print 'perplexity: ', model_DNR.score_tracker['PerplexityScore'].last_value\n",
    "print 'phi subj sparsity: ', model_DNR.score_tracker['SparsityPhiSubjScore'].last_value\n",
    "print 'phi obj sparsity: ',model_DNR.score_tracker['SparsityPhiObjScore'].last_value\n",
    "print 'theta sparsity: ',model_DNR.score_tracker['SparsityThetaScore'].last_value\n",
    "#print model.score_tracker['TopicKernelPosScore'].last_value\n",
    "#print model.score_tracker['TopicKernelNegScore'].last_value"
   ]
  },
  {
   "cell_type": "markdown",
   "metadata": {},
   "source": [
    "<b>Пользуемся методом к-средних, представленным в библиотеке sklearn</b>"
   ]
  },
  {
   "cell_type": "code",
   "execution_count": 358,
   "metadata": {},
   "outputs": [],
   "source": [
    "kmeans_trump = KMeans(n_clusters = N_CLUSTERS_TRUMP)\n",
    "kmeans_trump.fit(lines_trump)\n",
    "\n",
    "cluster_list_trump = kmeans_trump.labels_\n",
    "\n",
    "#################################\n",
    "\n",
    "kmeans_DNR = KMeans(n_clusters = N_CLUSTERS_DNR)\n",
    "kmeans_DNR.fit(lines_DNR)\n",
    "cluster_list_DNR = kmeans_DNR.labels_"
   ]
  },
  {
   "cell_type": "markdown",
   "metadata": {},
   "source": [
    "# Оценка качества модели"
   ]
  },
  {
   "cell_type": "code",
   "execution_count": 359,
   "metadata": {},
   "outputs": [
    {
     "name": "stdout",
     "output_type": "stream",
     "text": [
      "TRUMP PWS: 0.509254709255\n",
      "DNR PWS: 0.809736157562\n",
      "=====================================\n",
      "TRUMP CPS: 0.352941176471\n",
      "DNR CPS: 0.414141414141\n"
     ]
    }
   ],
   "source": [
    "\n",
    "print 'TRUMP PWS: ' + str(PWS(class_list = class_list_trump, cluster_list = cluster_list_trump))\n",
    "print 'DNR PWS: ' + str(PWS(class_list = class_list_DNR, cluster_list = cluster_list_DNR))\n",
    "print '====================================='\n",
    "print 'TRUMP CPS: ' + str(CPS(class_list = class_list_trump, cluster_list = cluster_list_trump))\n",
    "print 'DNR CPS: ' + str(CPS(class_list = class_list_DNR, cluster_list = cluster_list_DNR))\n"
   ]
  },
  {
   "cell_type": "markdown",
   "metadata": {},
   "source": [
    "<b>Мы можем визуально сравнивать качества кластеризации, глядя на то, как совпадают векторы кластеров. Индекс списка соответствует номеру документа, значние по этому индексу - кластеру.</b>"
   ]
  },
  {
   "cell_type": "code",
   "execution_count": 347,
   "metadata": {},
   "outputs": [
    {
     "name": "stdout",
     "output_type": "stream",
     "text": [
      "TRUMP: \n",
      "[0, 0, 0, 0, 0, 2, 2, 0, 0, 1, 1, 0, 2, 1, 1, 0, 2, 1, 1, 0, 0, 1, 2, 1, 0, 1, 1, 0, 2, 2, 0, 0, 2, 0, 0, 0, 0, 2, 0, 0, 0, 1, 1, 1, 2, 1, 1, 0, 0, 0, 2, 2, 0, 1, 0, 2, 1, 0, 2, 1, 2, 0, 0, 0, 0, 0, 0, 0, 2, 2, 2, 0, 2, 2, 1, 1, 2, 2, 1, 0, 2, 2, 1, 1, 1, 1, 2, 2, 2, 2, 2, 2, 1, 1, 1, 2, 2, 2, 1, 2, 2, 2, 1, 2, 1, 2, 2, 1, 2, 2, 2, 2, 2, 1, 1, 2, 1, 1, 1, 2, 1, 1, 1, 1, 1, 1, 2, 2, 1, 1, 2, 1, 2, 1, 1, 2, 1, 2, 2, 2, 1, 1, 2, 2, 2, 1, 2, 2, 2, 2, 1, 1, 2, 1, 2, 2, 2, 2, 2, 2, 1, 1, 1, 2, 1, 2, 1, 1, 1, 2, 2, 1, 1, 1, 1, 1, 2, 1, 1, 1, 1, 2, 1, 1, 2, 1, 2, 1, 1, 1, 1, 1, 2, 1, 1, 2, 1, 2, 1, 2, 2, 2, 2, 1, 2, 1, 1, 1, 2, 1, 1, 2, 1, 2, 1, 1, 1, 2, 2, 1, 1]\n",
      "******************************\n",
      "[0 0 0 0 0 0 1 0 0 0 0 0 1 0 0 0 0 1 0 1 0 0 0 0 1 0 0 0 0 0 0 1 0 0 0 0 0\n",
      " 0 1 0 1 0 0 0 0 0 0 0 0 1 0 0 1 0 0 0 0 0 0 0 0 0 0 0 1 0 0 1 1 0 0 1 0 0\n",
      " 0 0 0 0 0 0 0 0 0 0 0 0 0 0 0 0 0 0 0 0 0 0 1 0 0 0 0 0 0 0 0 0 0 0 0 0 0\n",
      " 0 0 0 0 0 0 1 0 0 0 0 0 0 0 0 0 0 0 0 0 0 1 1 1 1 1 1 1 1 1 1 1 1 1 1 1 1\n",
      " 1 1 1 1 1 1 1 1 1 1 1 1 1 1 1 1 1 1 1 1 1 1 1 1 1 1 1 1 1 1 1 1 1 1 1 1 1\n",
      " 1 1 1 1 1 1 1 1 1 1 1 1 1 1 1 1 1 1 1 1 1 1 1 1 1 1 1 1 1 1 1 1 1 1 1 1]\n",
      "-----------------------------------------\n",
      "-----------------------------------------\n",
      "-----------------------------------------\n",
      "DNR: \n",
      "[1, 0, 0, 9, 1, 0, 0, 2, 2, 1, 2, 2, 1, 1, 1, 0, 2, 9, 9, 2, 2, 9, 0, 2, 2, 0, 2, 1, 2, 2, 1, 9, 1, 2, 0, 9, 2, 0, 2, 2, 0, 9, 2, 2, 1, 2, 2, 1, 2, 1, 0, 0, 1, 9, 1, 0, 2, 0, 2, 9, 1, 2, 0, 9, 0, 2, 0, 0, 9, 9, 1, 0, 2, 9, 9, 0, 2, 9, 2, 2, 2, 2, 1, 0, 1, 1, 0, 2, 2, 2, 2, 2, 2, 9, 0, 1, 0, 0, 1]\n",
      "******************************\n",
      "[2 0 2 2 2 7 2 2 2 6 2 2 2 1 7 2 2 2 2 2 2 2 6 2 0 2 2 1 2 7 5 9 2 2 0 2 2\n",
      " 2 2 7 2 2 7 2 2 1 2 2 2 2 5 2 2 2 0 0 2 2 2 1 2 2 3 2 8 2 0 0 2 2 1 4 6 7\n",
      " 9 7 2 2 1 2 2 2 5 2 7 2 5 2 1 2 1 2 2 9 7 0 5 8 2]\n"
     ]
    }
   ],
   "source": [
    "print 'TRUMP: '\n",
    "print class_list_trump\n",
    "print \"******************************\"\n",
    "print cluster_list_trump\n",
    "print '-----------------------------------------'\n",
    "print '-----------------------------------------'\n",
    "print '-----------------------------------------'\n",
    "print 'DNR: '\n",
    "print class_list_DNR\n",
    "print \"******************************\"\n",
    "print cluster_list_DNR\n"
   ]
  },
  {
   "cell_type": "code",
   "execution_count": null,
   "metadata": {},
   "outputs": [],
   "source": []
  },
  {
   "cell_type": "code",
   "execution_count": null,
   "metadata": {},
   "outputs": [],
   "source": []
  }
 ],
 "metadata": {
  "kernelspec": {
   "display_name": "Python 2",
   "language": "python",
   "name": "python2"
  },
  "language_info": {
   "codemirror_mode": {
    "name": "ipython",
    "version": 2
   },
   "file_extension": ".py",
   "mimetype": "text/x-python",
   "name": "python",
   "nbconvert_exporter": "python",
   "pygments_lexer": "ipython2",
   "version": "2.7.15rc1"
  }
 },
 "nbformat": 4,
 "nbformat_minor": 2
}
