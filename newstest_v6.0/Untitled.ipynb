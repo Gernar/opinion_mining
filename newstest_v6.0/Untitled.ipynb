{
 "cells": [
  {
   "cell_type": "code",
   "execution_count": 1,
   "metadata": {},
   "outputs": [],
   "source": [
    "from __future__ import division\n",
    "import os\n",
    "import codecs"
   ]
  },
  {
   "cell_type": "code",
   "execution_count": 2,
   "metadata": {},
   "outputs": [],
   "source": [
    "def PackToPack(files, file_name):\n",
    "    with codecs.open(file_name, mode='w', encoding = 'utf-8') as f:\n",
    "        for file in files:\n",
    "            my_file = codecs.open(file, mode ='r', encoding = 'utf-8')\n",
    "            file_text = my_file.read().splitlines()\n",
    "            text = [t for t in file_text if (t and '|mark' not in t)]\n",
    "            class_list = [int(i[6:]) for i in file_text if '|mark' in i]\n",
    "            for i, c in enumerate(class_list):\n",
    "                if c == 9:\n",
    "                    class_list[i] = 0\n",
    "            for i,state in enumerate(text):\n",
    "                f.write('__label__' + str(class_list[i]) + ' ' + state[state.find('text')+5:] + '\\n')\n",
    "            my_file.close()\n",
    "\n",
    "def PackToDocksTest(file_txt, target_folder):\n",
    "    my_file = codecs.open(file_txt, mode ='r', encoding = 'utf-8')\n",
    "    file_text = my_file.read().splitlines()\n",
    "    text = [i for i in file_text if (i and '|mark' not in i)]\n",
    "    class_list = [int(i[6:]) for i in file_text if '|mark' in i]\n",
    "    for i,state in enumerate(text):\n",
    "        f = codecs.open(target_folder + '/d_' + str(i) + '.txt', mode='w', encoding = 'utf-8')\n",
    "        f.write(state[state.find('text')+5:])\n",
    "        f.close()\n",
    "\n",
    "    my_file.close()\n",
    "    return class_list\n",
    "\n"
   ]
  },
  {
   "cell_type": "code",
   "execution_count": 7,
   "metadata": {},
   "outputs": [],
   "source": [
    "#['trump_labelled.txt', 'lnr_dnr_labelled.txt']\n",
    "files = ['lnr_dnr_labelled.txt']\n",
    "#PackToPack('trump_labelled.txt', file_name = 'test_data.txt')\n",
    "PackToPack(files = files, file_name = 'test_data.txt')\n"
   ]
  },
  {
   "cell_type": "code",
   "execution_count": 4,
   "metadata": {},
   "outputs": [],
   "source": [
    "import fastText"
   ]
  },
  {
   "cell_type": "code",
   "execution_count": null,
   "metadata": {},
   "outputs": [],
   "source": []
  }
 ],
 "metadata": {
  "kernelspec": {
   "display_name": "Python 2",
   "language": "python",
   "name": "python2"
  },
  "language_info": {
   "codemirror_mode": {
    "name": "ipython",
    "version": 2
   },
   "file_extension": ".py",
   "mimetype": "text/x-python",
   "name": "python",
   "nbconvert_exporter": "python",
   "pygments_lexer": "ipython2",
   "version": "2.7.15rc1"
  }
 },
 "nbformat": 4,
 "nbformat_minor": 2
}
